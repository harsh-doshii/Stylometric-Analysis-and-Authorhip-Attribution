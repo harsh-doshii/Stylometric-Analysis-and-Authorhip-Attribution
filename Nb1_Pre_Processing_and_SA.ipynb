{
  "nbformat": 4,
  "nbformat_minor": 0,
  "metadata": {
    "colab": {
      "name": "Nb1- Pre-Processing and SA.ipynb",
      "provenance": [],
      "collapsed_sections": []
    },
    "kernelspec": {
      "display_name": "Python 3",
      "name": "python3"
    },
    "language_info": {
      "name": "python"
    }
  },
  "cells": [
    {
      "cell_type": "code",
      "metadata": {
        "colab": {
          "base_uri": "https://localhost:8080/"
        },
        "id": "jAGrTBpUsdVU",
        "outputId": "f5270aa5-3cf7-4586-d316-970e366f27b4"
      },
      "source": [
        "from google.colab import drive\n",
        "drive.mount('/content/gdrive')"
      ],
      "execution_count": 15,
      "outputs": [
        {
          "output_type": "stream",
          "name": "stdout",
          "text": [
            "Drive already mounted at /content/gdrive; to attempt to forcibly remount, call drive.mount(\"/content/gdrive\", force_remount=True).\n"
          ]
        }
      ]
    },
    {
      "cell_type": "markdown",
      "metadata": {
        "id": "Gpss5zvtL_Xo"
      },
      "source": [
        "## Functions to pre-process the corpus"
      ]
    },
    {
      "cell_type": "markdown",
      "metadata": {
        "id": "nhZQWoCCb3FC"
      },
      "source": [
        "Making a corpus:"
      ]
    },
    {
      "cell_type": "code",
      "metadata": {
        "id": "jZ_GZYkTMcCj"
      },
      "source": [
        "def AuthorCorpus():\n",
        "  ##for the author, \n",
        "  import os\n",
        "  arr = os.listdir()\n",
        "  for name in arr:\n",
        "    type(name)\n",
        "  corpus = []\n",
        "  for filename in arr:\n",
        "      with open(f'{filename}') as f:\n",
        "        temp = f.read().replace('\\n', ' ')\n",
        "        s='***'\n",
        "\n",
        "        temp = temp[temp.find(s)+4:] # *** Start of the ptoject......\n",
        "        temp = temp[temp.find(s)+4:] # (Actual start of the book)\n",
        "        temp = temp[:temp.find(s)] #Removes the end \n",
        "        corpus.append(temp)\n",
        "  corpus = '\\n'.join(corpus)\n",
        "  corpus = corpus.lower()\n",
        "  return corpus"
      ],
      "execution_count": 16,
      "outputs": []
    },
    {
      "cell_type": "code",
      "metadata": {
        "id": "grHUUTfQe-_g"
      },
      "source": [
        "def block_maker(l):\n",
        "  ans = []\n",
        "  k = len(l)\n",
        "  i = 0;\n",
        "  while (2000*(i+1) < k):\n",
        "      ans.append(l[2000*i:(2000*(i+1))])\n",
        "      i+=1\n",
        "  ans.append(l[2000*i:])\n",
        "  return ans  "
      ],
      "execution_count": 17,
      "outputs": []
    },
    {
      "cell_type": "code",
      "metadata": {
        "id": "v9X0kPU4K2CJ"
      },
      "source": [
        "def arr_to_string(s):\n",
        "    # initialize an empty string\n",
        "    str1 = \"\" \n",
        "    \n",
        "    # traverse in the string  \n",
        "    for ele in s: \n",
        "        str1 += \" \"+ele  \n",
        "    \n",
        "    # return string  \n",
        "    return str1 "
      ],
      "execution_count": 18,
      "outputs": []
    },
    {
      "cell_type": "markdown",
      "metadata": {
        "id": "K5mIg_epb7l-"
      },
      "source": [
        "Tokenizing"
      ]
    },
    {
      "cell_type": "code",
      "metadata": {
        "colab": {
          "base_uri": "https://localhost:8080/"
        },
        "id": "g1L5xLWPye3H",
        "outputId": "5d6d9bef-5faf-46b1-f904-931eba4129cb"
      },
      "source": [
        "import nltk\n",
        "from nltk.tokenize import sent_tokenize, word_tokenize\n",
        "import nltk\n",
        "nltk.download('punkt')"
      ],
      "execution_count": 19,
      "outputs": [
        {
          "output_type": "stream",
          "name": "stdout",
          "text": [
            "[nltk_data] Downloading package punkt to /root/nltk_data...\n",
            "[nltk_data]   Package punkt is already up-to-date!\n"
          ]
        },
        {
          "output_type": "execute_result",
          "data": {
            "text/plain": [
              "True"
            ]
          },
          "metadata": {},
          "execution_count": 19
        }
      ]
    },
    {
      "cell_type": "code",
      "metadata": {
        "id": "KTiT2NBOJeZg"
      },
      "source": [
        "def spaceTokenized(corpus):\n",
        "  words = corpus\n",
        "  from nltk.tokenize import RegexpTokenizer\n",
        "\n",
        "  tokenizer = RegexpTokenizer(r'\\w+')\n",
        "  words = tokenizer.tokenize(words)\n",
        "  len(words)\n",
        "  return words"
      ],
      "execution_count": 20,
      "outputs": []
    },
    {
      "cell_type": "code",
      "metadata": {
        "id": "AyAJFC0d_z-W"
      },
      "source": [
        "from nltk.tokenize import sent_tokenize\n",
        "def sentenceTokenized(corpus):\n",
        "  words = corpus\n",
        "\n",
        "  words = sent_tokenize(words)\n",
        "  len(words)\n",
        "  return words"
      ],
      "execution_count": 21,
      "outputs": []
    },
    {
      "cell_type": "markdown",
      "metadata": {
        "id": "d6JNBbJ8b_H_"
      },
      "source": [
        "Removing Stop Words"
      ]
    },
    {
      "cell_type": "code",
      "metadata": {
        "id": "spBYp_bCvFRd"
      },
      "source": [
        "def minusStopWords(words):\n",
        "  nltk.download('stopwords')\n",
        "  from nltk.corpus import stopwords\n",
        "  stop_words = set(stopwords.words('english')) \n",
        "\n",
        "  words = [w for w in words if not w in stop_words]\n",
        "  len(words)\n",
        "  return words"
      ],
      "execution_count": 22,
      "outputs": []
    },
    {
      "cell_type": "markdown",
      "metadata": {
        "id": "-oFMdFiJcCU9"
      },
      "source": [
        "Stemming"
      ]
    },
    {
      "cell_type": "code",
      "metadata": {
        "id": "vrO6hWd1oyU0"
      },
      "source": [
        "def stemmed(words):\n",
        "  from nltk.stem import PorterStemmer\n",
        "  ps = PorterStemmer()\n",
        "\n",
        "  stemmed_tokens = [ps.stem(w) for w in words ]\n",
        "  return stemmed_tokens"
      ],
      "execution_count": 23,
      "outputs": []
    },
    {
      "cell_type": "code",
      "metadata": {
        "id": "0Nmu7sGstFRW"
      },
      "source": [
        ""
      ],
      "execution_count": 23,
      "outputs": []
    },
    {
      "cell_type": "markdown",
      "metadata": {
        "id": "CFq9YT_SIO-S"
      },
      "source": [
        "#Stylometric Test 1 - Word Length\n",
        "\n",
        "Literary scholar T. C. Mendenhall once wrote that an author’s stylistic signature could be found by counting how often he or she used words of different lengths.14 For example, if we counted word lengths in several 1,000-word or 5,000 word segments of any novel, and then plotted a graph of the word length distributions, the curves would look pretty much the same no matter what parts of the novel we had picked. Indeed, Mendenhall thought that if one counted enough words selected from various parts of a writer’s entire life’s work (say, 100,000 or so), the author’s “characteristic curve” of word length usage would become so precise that it would be constant over his or her lifetime.\n",
        "\n",
        "By today’s standards, counting word lengths seems like a very blunt way of measuring literary style. Mendenhall’s method does not take the actual words in an author’s vocabulary into account, which is obviously problematic. Therefore, we should not treat the characteristic curves as a particularly trustworthy source of stylometric evidence. However, Mendenhall published his theory over one hundred and thirty years ago and made all calculations by hand. It is understandable that he would have chosen to work with a statistic that, however coarse, was at least easy to compile. In honor of the historical value of his early attempt at stylometry, and because the characteristic curve yields interesting visual results that can be implemented quickly, we will use Mendenhall’s method as a first step in our exploration of authorship attribution techniques.\n",
        "\n",
        "Source: https://programminghistorian.org/en/lessons/introduction-to-stylometry-with-python"
      ]
    },
    {
      "cell_type": "code",
      "metadata": {
        "colab": {
          "base_uri": "https://localhost:8080/"
        },
        "id": "OlKGkA9Xd5Wq",
        "outputId": "719a2093-c75b-4b8e-9894-e6a657395140"
      },
      "source": [
        "cd /content/gdrive/MyDrive/NLP Project Dataset.zip (Unzipped Files)/Arthur Conan Doyle"
      ],
      "execution_count": 24,
      "outputs": [
        {
          "output_type": "stream",
          "name": "stdout",
          "text": [
            "/content/gdrive/MyDrive/NLP Project Dataset.zip (Unzipped Files)/Arthur Conan Doyle\n"
          ]
        }
      ]
    },
    {
      "cell_type": "code",
      "metadata": {
        "colab": {
          "base_uri": "https://localhost:8080/"
        },
        "id": "tDS6MtuOJgBH",
        "outputId": "ccc473fe-dd96-40b6-d077-e1d5a274bacb"
      },
      "source": [
        "corpusArthur = AuthorCorpus()\n",
        "spaceTokenizedArthur = spaceTokenized(corpusArthur)\n",
        "functionWordsArthur=minusStopWords(spaceTokenizedArthur)\n",
        "word_lengthsArthur = [len(token) for token in functionWordsArthur]"
      ],
      "execution_count": 25,
      "outputs": [
        {
          "output_type": "stream",
          "name": "stdout",
          "text": [
            "[nltk_data] Downloading package stopwords to /root/nltk_data...\n",
            "[nltk_data]   Unzipping corpora/stopwords.zip.\n"
          ]
        }
      ]
    },
    {
      "cell_type": "code",
      "metadata": {
        "colab": {
          "base_uri": "https://localhost:8080/"
        },
        "id": "3UcI_2i4K4mP",
        "outputId": "6116d6fd-03b5-49c3-9f6c-8de4ba1e0a7f"
      },
      "source": [
        "from statistics import mean \n",
        "mean(word_lengthsArthur)"
      ],
      "execution_count": 26,
      "outputs": [
        {
          "output_type": "execute_result",
          "data": {
            "text/plain": [
              "5.776327545207149"
            ]
          },
          "metadata": {},
          "execution_count": 26
        }
      ]
    },
    {
      "cell_type": "code",
      "metadata": {
        "colab": {
          "base_uri": "https://localhost:8080/"
        },
        "id": "rHrNl7fwJk7Q",
        "outputId": "533412dd-9df2-4596-814c-6376293b7ca8"
      },
      "source": [
        "cd /content/gdrive/MyDrive/NLP Project Dataset.zip (Unzipped Files)/Jonathan Swift"
      ],
      "execution_count": 27,
      "outputs": [
        {
          "output_type": "stream",
          "name": "stdout",
          "text": [
            "/content/gdrive/MyDrive/NLP Project Dataset.zip (Unzipped Files)/Jonathan Swift\n"
          ]
        }
      ]
    },
    {
      "cell_type": "code",
      "metadata": {
        "colab": {
          "base_uri": "https://localhost:8080/"
        },
        "id": "Ih3BvzUZKas-",
        "outputId": "88806532-993d-463a-c3a3-bebe83e2f76e"
      },
      "source": [
        "corpusJonathan = AuthorCorpus()\n",
        "spaceTokenizedJonathan = spaceTokenized(corpusJonathan)\n",
        "functionWordsJonathan=minusStopWords(spaceTokenizedJonathan)\n",
        "word_lengthsJonathan = [len(token) for token in functionWordsJonathan]"
      ],
      "execution_count": 28,
      "outputs": [
        {
          "output_type": "stream",
          "name": "stdout",
          "text": [
            "[nltk_data] Downloading package stopwords to /root/nltk_data...\n",
            "[nltk_data]   Package stopwords is already up-to-date!\n"
          ]
        }
      ]
    },
    {
      "cell_type": "code",
      "metadata": {
        "colab": {
          "base_uri": "https://localhost:8080/"
        },
        "id": "G0Rk887pLh7-",
        "outputId": "1d5ae812-5f87-45c8-a139-0448e921ee6e"
      },
      "source": [
        "from statistics import mean \n",
        "mean(word_lengthsJonathan)"
      ],
      "execution_count": 29,
      "outputs": [
        {
          "output_type": "execute_result",
          "data": {
            "text/plain": [
              "5.872565731341622"
            ]
          },
          "metadata": {},
          "execution_count": 29
        }
      ]
    },
    {
      "cell_type": "code",
      "metadata": {
        "colab": {
          "base_uri": "https://localhost:8080/"
        },
        "id": "u4woaW1DOAYo",
        "outputId": "36275a0f-d1dd-43de-e5ae-568e7825ab8f"
      },
      "source": [
        "cd /content/gdrive/MyDrive/NLP Project Dataset.zip (Unzipped Files)/Jane Austen"
      ],
      "execution_count": 30,
      "outputs": [
        {
          "output_type": "stream",
          "name": "stdout",
          "text": [
            "/content/gdrive/MyDrive/NLP Project Dataset.zip (Unzipped Files)/Jane Austen\n"
          ]
        }
      ]
    },
    {
      "cell_type": "code",
      "metadata": {
        "colab": {
          "base_uri": "https://localhost:8080/"
        },
        "id": "T7bMlgw0ODfl",
        "outputId": "ce9fadf6-b373-4225-ec35-7090d5106b58"
      },
      "source": [
        "corpusJane = AuthorCorpus()\n",
        "spaceTokenizedJane = spaceTokenized(corpusJane)\n",
        "functionWordsJane=minusStopWords(spaceTokenizedJane)\n",
        "word_lengthsJane = [len(token) for token in functionWordsJane]"
      ],
      "execution_count": 31,
      "outputs": [
        {
          "output_type": "stream",
          "name": "stdout",
          "text": [
            "[nltk_data] Downloading package stopwords to /root/nltk_data...\n",
            "[nltk_data]   Package stopwords is already up-to-date!\n"
          ]
        }
      ]
    },
    {
      "cell_type": "code",
      "metadata": {
        "colab": {
          "base_uri": "https://localhost:8080/"
        },
        "id": "g_h-ZfWKOI0O",
        "outputId": "5bf9f459-ccff-4ce3-a57b-1baf7aaf2317"
      },
      "source": [
        "from statistics import mean \n",
        "mean(word_lengthsJane)"
      ],
      "execution_count": 32,
      "outputs": [
        {
          "output_type": "execute_result",
          "data": {
            "text/plain": [
              "5.9226697505705905"
            ]
          },
          "metadata": {},
          "execution_count": 32
        }
      ]
    },
    {
      "cell_type": "code",
      "metadata": {
        "colab": {
          "base_uri": "https://localhost:8080/"
        },
        "id": "N_dkkHp-PY9q",
        "outputId": "9d087496-b76b-483f-a3d5-86c613f89a3c"
      },
      "source": [
        "cd /content/gdrive/MyDrive/NLP Project Dataset.zip (Unzipped Files)/H. G. Wells"
      ],
      "execution_count": 33,
      "outputs": [
        {
          "output_type": "stream",
          "name": "stdout",
          "text": [
            "/content/gdrive/MyDrive/NLP Project Dataset.zip (Unzipped Files)/H. G. Wells\n"
          ]
        }
      ]
    },
    {
      "cell_type": "code",
      "metadata": {
        "colab": {
          "base_uri": "https://localhost:8080/"
        },
        "id": "8ZFCwAz8PaNG",
        "outputId": "eec75a01-3b44-4632-ba0f-a7e4a2201c20"
      },
      "source": [
        "corpusWells = AuthorCorpus()\n",
        "spaceTokenizedWells = spaceTokenized(corpusWells)\n",
        "functionWordsWells=minusStopWords(spaceTokenizedWells)\n",
        "word_lengthsWells = [len(token) for token in functionWordsWells]"
      ],
      "execution_count": 34,
      "outputs": [
        {
          "output_type": "stream",
          "name": "stdout",
          "text": [
            "[nltk_data] Downloading package stopwords to /root/nltk_data...\n",
            "[nltk_data]   Package stopwords is already up-to-date!\n"
          ]
        }
      ]
    },
    {
      "cell_type": "code",
      "metadata": {
        "colab": {
          "base_uri": "https://localhost:8080/"
        },
        "id": "LKnNbFkUPmj9",
        "outputId": "c2fb8684-ff63-4605-d866-de24dfd1160d"
      },
      "source": [
        "from statistics import mean \n",
        "mean(word_lengthsWells)"
      ],
      "execution_count": 35,
      "outputs": [
        {
          "output_type": "execute_result",
          "data": {
            "text/plain": [
              "6.130314022464016"
            ]
          },
          "metadata": {},
          "execution_count": 35
        }
      ]
    },
    {
      "cell_type": "code",
      "metadata": {
        "colab": {
          "base_uri": "https://localhost:8080/"
        },
        "id": "PUxNUCS8QkOy",
        "outputId": "3dd73412-8909-4655-bc45-bcb54dd61161"
      },
      "source": [
        "cd /content/gdrive/MyDrive/NLP Project Dataset.zip (Unzipped Files)/Charles Dickens"
      ],
      "execution_count": 36,
      "outputs": [
        {
          "output_type": "stream",
          "name": "stdout",
          "text": [
            "/content/gdrive/MyDrive/NLP Project Dataset.zip (Unzipped Files)/Charles Dickens\n"
          ]
        }
      ]
    },
    {
      "cell_type": "code",
      "metadata": {
        "colab": {
          "base_uri": "https://localhost:8080/"
        },
        "id": "ij2G7lPqQn3W",
        "outputId": "2dd102cf-1a01-4714-f85e-7ded1c0df5d3"
      },
      "source": [
        "corpusDickens = AuthorCorpus()\n",
        "spaceTokenizedDickens = spaceTokenized(corpusDickens)\n",
        "functionWordsDickens = minusStopWords(spaceTokenizedDickens)\n",
        "word_lengthsDickens = [len(token) for token in functionWordsDickens]"
      ],
      "execution_count": 37,
      "outputs": [
        {
          "output_type": "stream",
          "name": "stdout",
          "text": [
            "[nltk_data] Downloading package stopwords to /root/nltk_data...\n",
            "[nltk_data]   Package stopwords is already up-to-date!\n"
          ]
        }
      ]
    },
    {
      "cell_type": "code",
      "metadata": {
        "colab": {
          "base_uri": "https://localhost:8080/"
        },
        "id": "Wcz3v4i5QxF6",
        "outputId": "8d97d1fd-e429-4ee5-e1d3-8743f3b2ca23"
      },
      "source": [
        "from statistics import mean \n",
        "mean(word_lengthsDickens)"
      ],
      "execution_count": 38,
      "outputs": [
        {
          "output_type": "execute_result",
          "data": {
            "text/plain": [
              "5.837339088196396"
            ]
          },
          "metadata": {},
          "execution_count": 38
        }
      ]
    },
    {
      "cell_type": "code",
      "metadata": {
        "id": "tYknH_HtsYq7"
      },
      "source": [
        "import numpy as np \n",
        "def freq(numbers,maxfreq):\n",
        " freq=np.zeros(maxfreq)\n",
        " for i in numbers:\n",
        "   if i<maxfreq+1:\n",
        "    freq[i-1]=freq[i-1]+1\n",
        " return freq\n",
        " "
      ],
      "execution_count": 39,
      "outputs": []
    },
    {
      "cell_type": "code",
      "metadata": {
        "colab": {
          "base_uri": "https://localhost:8080/",
          "height": 295
        },
        "id": "Qe2F6j_5aeiY",
        "outputId": "e63d6a77-bc6a-4274-eda5-99a07deb5087"
      },
      "source": [
        "\n",
        "from matplotlib import pyplot as plt  \n",
        "count=[1,2,3,4,5,6,7,8,9,10,11,12,13,14,15]\n",
        "freqArthur=freq(word_lengthsArthur[1:100000],15)\n",
        "freqJane=freq(word_lengthsJane[1:100000],15)\n",
        "freqJonathan=freq(word_lengthsJonathan[1:100000],15)\n",
        "freqWells=freq(word_lengthsWells[1:100000],15)\n",
        "freqDickens=freq(word_lengthsDickens[1:100000],15)\n",
        "plt.plot(count, freqArthur, 'b', label='Arthur', linewidth=1)    \n",
        "plt.plot(count, freqJane, 'r', label='Jane', linewidth=1) \n",
        "plt.plot(count, freqJonathan, 'g', label='Jonathan', linewidth=1) \n",
        "plt.plot(count, freqWells, 'y', label='Wells', linewidth=1) \n",
        "plt.plot(count, freqDickens, 'black', label='Dickens', linewidth=1)          \n",
        "plt.title(\"Authors\")    \n",
        "plt.ylabel('Frequency')    \n",
        "plt.xlabel('Length of word') \n",
        "plt.show() "
      ],
      "execution_count": 40,
      "outputs": [
        {
          "output_type": "display_data",
          "data": {
            "image/png": "[encoded data removed]",
            "text/plain": [
              "<Figure size 432x288 with 1 Axes>"
            ]
          },
          "metadata": {
            "needs_background": "light"
          }
        }
      ]
    },
    {
      "cell_type": "markdown",
      "metadata": {
        "id": "PXFvFM_mjy2-"
      },
      "source": [
        "#Lexical Stylometric Analysis"
      ]
    },
    {
      "cell_type": "markdown",
      "metadata": {
        "id": "KRogj3jUcOab"
      },
      "source": [
        "a. Number of sentences by each author"
      ]
    },
    {
      "cell_type": "code",
      "metadata": {
        "colab": {
          "base_uri": "https://localhost:8080/"
        },
        "id": "9v-HSh7SP6HP",
        "outputId": "35fbf23d-e644-4736-8257-f6d88fdc5079"
      },
      "source": [
        "import re\n",
        "\n",
        "sentenceTokenizedArthur = sentenceTokenized(corpusArthur)\n",
        "print(len(sentenceTokenizedArthur))\n",
        "sentenceTokenizedJane = sentenceTokenized(corpusJane)\n",
        "print(len(sentenceTokenizedJane))\n",
        "sentenceTokenizedJonathan = sentenceTokenized(corpusJonathan)\n",
        "print(len(sentenceTokenizedJonathan))\n",
        "sentenceTokenizedWells = sentenceTokenized(corpusWells)\n",
        "print(len(sentenceTokenizedWells))\n",
        "sentenceTokenizedDickens = sentenceTokenized(corpusDickens)\n",
        "print(len(sentenceTokenizedDickens))\n",
        "\n",
        "\n"
      ],
      "execution_count": 41,
      "outputs": [
        {
          "output_type": "stream",
          "name": "stdout",
          "text": [
            "223265\n",
            "19247\n",
            "41643\n",
            "272202\n",
            "366289\n"
          ]
        }
      ]
    },
    {
      "cell_type": "markdown",
      "metadata": {
        "id": "ZKCKFn4scXOn"
      },
      "source": [
        "b. Plotting words/sentence for each author"
      ]
    },
    {
      "cell_type": "code",
      "metadata": {
        "colab": {
          "base_uri": "https://localhost:8080/",
          "height": 295
        },
        "id": "Cl6TFGrjjT2A",
        "outputId": "2304ad1c-ca52-46dc-b516-aed345f1ddb3"
      },
      "source": [
        "wpsArthur= [len(re.findall(\" \", token)) for token in sentenceTokenizedArthur[0:20000]]\n",
        "wpsJane= [len(re.findall(\" \", token)) for token in sentenceTokenizedJane[0:20000]]\n",
        "wpsJonathan= [len(re.findall(\" \", token)) for token in sentenceTokenizedJonathan[0:20000]]\n",
        "wpsWells= [len(re.findall(\" \", token)) for token in sentenceTokenizedWells[0:20000]]\n",
        "wpsDickens= [len(re.findall(\" \", token)) for token in sentenceTokenizedDickens[0:20000]]\n",
        "from matplotlib import pyplot as plt  \n",
        "count=range(1,41)\n",
        "wpsfreqArthur=freq(wpsArthur,40)\n",
        "wpsfreqJane=freq(wpsJane,40)\n",
        "wpsfreqJonathan=freq(wpsJonathan,40)\n",
        "wpsfreqWells=freq(wpsWells,40)\n",
        "wpsfreqDickens=freq(wpsDickens,40)\n",
        "plt.plot(count, wpsfreqArthur, 'b', label='Arthur', linewidth=1)    \n",
        "plt.plot(count, wpsfreqJane, 'r', label='Jane', linewidth=1) \n",
        "plt.plot(count, wpsfreqJonathan, 'g', label='Jonathan', linewidth=1) \n",
        "plt.plot(count, wpsfreqWells, 'y', label='Wells', linewidth=1) \n",
        "plt.plot(count, wpsfreqDickens, 'black', label='Dickens', linewidth=1)          \n",
        "plt.title(\"words per sentence frequency\")    \n",
        "plt.ylabel('Frequency')    \n",
        "plt.xlabel('words per sentence') \n",
        "plt.show() \n"
      ],
      "execution_count": 42,
      "outputs": [
        {
          "output_type": "display_data",
          "data": {
            "image/png": "[encoded data removed]",
            "text/plain": [
              "<Figure size 432x288 with 1 Axes>"
            ]
          },
          "metadata": {
            "needs_background": "light"
          }
        }
      ]
    },
    {
      "cell_type": "markdown",
      "metadata": {
        "id": "DLsV1HwYcgWg"
      },
      "source": [
        "c. Plotting commas/sentence for each author"
      ]
    },
    {
      "cell_type": "code",
      "metadata": {
        "colab": {
          "base_uri": "https://localhost:8080/",
          "height": 382
        },
        "id": "l_QCtbY7ngvf",
        "outputId": "df1c266b-ec66-4272-a2a5-e5fd75d563f9"
      },
      "source": [
        "wpsArthur= [len(re.findall(\",\", token)) for token in sentenceTokenizedArthur[0:20000]]\n",
        "wpsJane= [len(re.findall(\",\", token)) for token in sentenceTokenizedJane[0:20000]]\n",
        "wpsJonathan= [len(re.findall(\",\", token)) for token in sentenceTokenizedJonathan[0:20000]]\n",
        "wpsWells= [len(re.findall(\",\", token)) for token in sentenceTokenizedWells[0:20000]]\n",
        "wpsDickens= [len(re.findall(\",\", token)) for token in sentenceTokenizedDickens[0:20000]]\n",
        "print(mean(wpsArthur))\n",
        "print(mean(wpsJane))\n",
        "print(mean(wpsJonathan))\n",
        "print(mean(wpsWells))\n",
        "print(mean(wpsDickens))\n",
        "from matplotlib import pyplot as plt  \n",
        "count=range(1,11)\n",
        "wpsfreqArthur=freq(wpsArthur,10)\n",
        "wpsfreqJane=freq(wpsJane,10)\n",
        "wpsfreqJonathan=freq(wpsJonathan,10)\n",
        "wpsfreqWells=freq(wpsWells,10)\n",
        "wpsfreqDickens=freq(wpsDickens,10)\n",
        "plt.plot(count, wpsfreqArthur, 'b', label='Arthur', linewidth=1)    \n",
        "plt.plot(count, wpsfreqJane, 'r', label='Jane', linewidth=1) \n",
        "plt.plot(count, wpsfreqJonathan, 'g', label='Jonathan', linewidth=1) \n",
        "plt.plot(count, wpsfreqWells, 'y', label='Wells', linewidth=1) \n",
        "plt.plot(count, wpsfreqDickens, 'black', label='Dickens', linewidth=1)          \n",
        "plt.title(\"commas per sentence frequency\")    \n",
        "plt.ylabel('Frequency')    \n",
        "plt.xlabel('words per sentence') \n",
        "plt.show() \n"
      ],
      "execution_count": 43,
      "outputs": [
        {
          "output_type": "stream",
          "name": "stdout",
          "text": [
            "1.3747\n",
            "1.6060684782043955\n",
            "2.67055\n",
            "1.55865\n",
            "1.92635\n"
          ]
        },
        {
          "output_type": "display_data",
          "data": {
            "image/png": "[encoded data removed]",
            "text/plain": [
              "<Figure size 432x288 with 1 Axes>"
            ]
          },
          "metadata": {
            "needs_background": "light"
          }
        }
      ]
    },
    {
      "cell_type": "markdown",
      "metadata": {
        "id": "8vLs4MmHco6y"
      },
      "source": [
        "d. Analysing Exclaimation/sentence for each author"
      ]
    },
    {
      "cell_type": "code",
      "metadata": {
        "colab": {
          "base_uri": "https://localhost:8080/"
        },
        "id": "7o14Y_HMr2DZ",
        "outputId": "ef29d46d-2bff-4ca1-de22-e6951e60599b"
      },
      "source": [
        "wpsArthur= [len(re.findall(\"!\", token)) for token in sentenceTokenizedArthur]\n",
        "wpsJane= [len(re.findall(\"!\", token)) for token in sentenceTokenizedJane]\n",
        "wpsJonathan= [len(re.findall(\"!\", token)) for token in sentenceTokenizedJonathan]\n",
        "wpsWells= [len(re.findall(\"!\", token)) for token in sentenceTokenizedWells]\n",
        "wpsDickens= [len(re.findall(\"!\", token)) for token in sentenceTokenizedDickens]\n",
        "print(mean(wpsArthur))\n",
        "print(mean(wpsJane))\n",
        "print(mean(wpsJonathan))\n",
        "print(mean(wpsWells))\n",
        "print(mean(wpsDickens))"
      ],
      "execution_count": 44,
      "outputs": [
        {
          "output_type": "stream",
          "name": "stdout",
          "text": [
            "0.06984077217656148\n",
            "0.10230165740115342\n",
            "0.02634296280287203\n",
            "0.06135149631523648\n",
            "0.14943118684972795\n"
          ]
        }
      ]
    },
    {
      "cell_type": "markdown",
      "metadata": {
        "id": "OMrUU_IFc3eD"
      },
      "source": [
        "e. Analysing Question Marks/sentence for each author"
      ]
    },
    {
      "cell_type": "code",
      "metadata": {
        "colab": {
          "base_uri": "https://localhost:8080/"
        },
        "id": "mCq0xQdB54g3",
        "outputId": "938b4bbb-98db-42a6-ef59-b072f6614dfd"
      },
      "source": [
        "wpsArthur= [len(re.findall(\"\\?\", token)) for token in sentenceTokenizedArthur]\n",
        "wpsJane= [len(re.findall(\"\\?\", token)) for token in sentenceTokenizedJane]\n",
        "wpsJonathan= [len(re.findall(\"\\?\", token)) for token in sentenceTokenizedJonathan]\n",
        "wpsWells= [len(re.findall(\"\\?\", token)) for token in sentenceTokenizedWells]\n",
        "wpsDickens= [len(re.findall(\"\\?\", token)) for token in sentenceTokenizedDickens]\n",
        "print(mean(wpsArthur))\n",
        "print(mean(wpsJane))\n",
        "print(mean(wpsJonathan))\n",
        "print(mean(wpsWells))\n",
        "print(mean(wpsDickens))"
      ],
      "execution_count": 45,
      "outputs": [
        {
          "output_type": "stream",
          "name": "stdout",
          "text": [
            "0.08553960540165274\n",
            "0.0844806982906427\n",
            "0.05340633479816536\n",
            "0.06606123393656181\n",
            "0.11343228980395262\n"
          ]
        }
      ]
    },
    {
      "cell_type": "markdown",
      "metadata": {
        "id": "2L8ZV6didAy-"
      },
      "source": [
        "f. Analysing quotes/sentence for each author"
      ]
    },
    {
      "cell_type": "code",
      "metadata": {
        "colab": {
          "base_uri": "https://localhost:8080/"
        },
        "id": "bkHK8iUX8hBp",
        "outputId": "ed17edc4-97f9-4d5b-97cc-98d5eb2d7993"
      },
      "source": [
        "wpsArthur= [len(re.findall(\"\\\"\", token)) for token in sentenceTokenizedArthur]\n",
        "wpsJane= [len(re.findall(\"\\\"\", token)) for token in sentenceTokenizedJane]\n",
        "wpsJonathan= [len(re.findall(\"\\\"\", token)) for token in sentenceTokenizedJonathan]\n",
        "wpsWells= [len(re.findall(\"\\\"\", token)) for token in sentenceTokenizedWells]\n",
        "wpsDickens= [len(re.findall(\"\\\"\", token)) for token in sentenceTokenizedDickens]\n",
        "print(mean(wpsArthur))\n",
        "print(mean(wpsJane))\n",
        "print(mean(wpsJonathan))\n",
        "print(mean(wpsWells))\n",
        "print(mean(wpsDickens))"
      ],
      "execution_count": 46,
      "outputs": [
        {
          "output_type": "stream",
          "name": "stdout",
          "text": [
            "0.2551721048977672\n",
            "0.23193224918169064\n",
            "0.15613668563744207\n",
            "0.24957935650729973\n",
            "0.27217579561493793\n"
          ]
        }
      ]
    },
    {
      "cell_type": "markdown",
      "metadata": {
        "id": "7zs42HcjdFqo"
      },
      "source": [
        "g. Analysing semi-colon/sentence for each author"
      ]
    },
    {
      "cell_type": "code",
      "metadata": {
        "colab": {
          "base_uri": "https://localhost:8080/"
        },
        "id": "vykRHxiw8_Ce",
        "outputId": "658cb87e-fd53-4d68-efec-d30da9701fc8"
      },
      "source": [
        "wpsArthur= [len(re.findall(\";\", token)) for token in sentenceTokenizedArthur]\n",
        "wpsJane= [len(re.findall(\";\", token)) for token in sentenceTokenizedJane]\n",
        "wpsJonathan= [len(re.findall(\";\", token)) for token in sentenceTokenizedJonathan]\n",
        "wpsWells= [len(re.findall(\";\", token)) for token in sentenceTokenizedWells]\n",
        "wpsDickens= [len(re.findall(\";\", token)) for token in sentenceTokenizedDickens]\n",
        "print(mean(wpsArthur))\n",
        "print(mean(wpsJane))\n",
        "print(mean(wpsJonathan))\n",
        "print(mean(wpsWells))\n",
        "print(mean(wpsDickens))"
      ],
      "execution_count": 47,
      "outputs": [
        {
          "output_type": "stream",
          "name": "stdout",
          "text": [
            "0.04530042774281683\n",
            "0.23764742557281654\n",
            "0.40700718007828446\n",
            "0.07945937208396706\n",
            "0.2263376732580012\n"
          ]
        }
      ]
    },
    {
      "cell_type": "markdown",
      "metadata": {
        "id": "tzSpQD4HdYAB"
      },
      "source": [
        "h. Analysing hyphen/sentence for each author"
      ]
    },
    {
      "cell_type": "code",
      "metadata": {
        "colab": {
          "base_uri": "https://localhost:8080/"
        },
        "id": "rQCMrL-d9tZ1",
        "outputId": "d7a92349-6fd5-4806-ae8d-696d7104f6bd"
      },
      "source": [
        "wpsArthur= [len(re.findall(\"-\", token)) for token in sentenceTokenizedArthur]\n",
        "wpsJane= [len(re.findall(\"-\", token)) for token in sentenceTokenizedJane]\n",
        "wpsJonathan= [len(re.findall(\"-\", token)) for token in sentenceTokenizedJonathan]\n",
        "wpsWells= [len(re.findall(\"-\", token)) for token in sentenceTokenizedWells]\n",
        "wpsDickens= [len(re.findall(\"-\", token)) for token in sentenceTokenizedDickens]\n",
        "print(mean(wpsArthur))\n",
        "print(mean(wpsJane))\n",
        "print(mean(wpsJonathan))\n",
        "print(mean(wpsWells))\n",
        "print(mean(wpsDickens))"
      ],
      "execution_count": 48,
      "outputs": [
        {
          "output_type": "stream",
          "name": "stdout",
          "text": [
            "0.3001366089624437\n",
            "0.22798358185691275\n",
            "0.20224287395240498\n",
            "0.36341393523927085\n",
            "0.406250255945442\n"
          ]
        }
      ]
    },
    {
      "cell_type": "markdown",
      "metadata": {
        "id": "cZRy22Drdftf"
      },
      "source": [
        "i. Analysing usage of salutations for each author"
      ]
    },
    {
      "cell_type": "code",
      "metadata": {
        "colab": {
          "base_uri": "https://localhost:8080/"
        },
        "id": "ChdjbuQi95PF",
        "outputId": "f53668dd-05ad-4c5d-d6e4-c5ae8d61a5a5"
      },
      "source": [
        "wpsArthur= [len(re.findall(\"mr.\", token))+len(re.findall(\"miss.\", token))+len(re.findall(\"ms.\", token)) for token in sentenceTokenizedArthur]\n",
        "wpsJane= [len(re.findall(\"mr.\", token))+len(re.findall(\"miss.\", token))+len(re.findall(\"ms.\", token)) for token in sentenceTokenizedJane]\n",
        "wpsJonathan= [len(re.findall(\"mr.\", token))+len(re.findall(\"miss.\", token))+len(re.findall(\"ms.\", token)) for token in sentenceTokenizedJonathan]\n",
        "wpsWells= [len(re.findall(\"mr.\", token))+len(re.findall(\"miss.\", token))+len(re.findall(\"ms.\", token)) for token in sentenceTokenizedWells]\n",
        "wpsDickens= [len(re.findall(\"mr.\", token))+len(re.findall(\"miss.\", token))+len(re.findall(\"ms.\", token)) for token in sentenceTokenizedDickens]\n",
        "print(mean(wpsArthur))\n",
        "print(mean(wpsJane))\n",
        "print(mean(wpsJonathan))\n",
        "print(mean(wpsWells))\n",
        "print(mean(wpsDickens))\n"
      ],
      "execution_count": 49,
      "outputs": [
        {
          "output_type": "stream",
          "name": "stdout",
          "text": [
            "0.0876581640651244\n",
            "0.37382449212864344\n",
            "0.15104579401099824\n",
            "0.10216309946289888\n",
            "0.2778844027530174\n"
          ]
        }
      ]
    },
    {
      "cell_type": "markdown",
      "metadata": {
        "id": "XCe7AGfKd6Xg"
      },
      "source": [
        "j. Analysing usage of pronouns for each author:"
      ]
    },
    {
      "cell_type": "code",
      "metadata": {
        "colab": {
          "base_uri": "https://localhost:8080/"
        },
        "id": "uADC1ReL5ORc",
        "outputId": "2d4db77d-7470-4679-c310-ee27d2b9ac51"
      },
      "source": [
        "wpArthur= [len(re.findall(\"he\", token)) for token in sentenceTokenizedArthur]\n",
        "wpJane= [len(re.findall(\"he\", token)) for token in sentenceTokenizedJane]\n",
        "wpJonathan= [len(re.findall(\"he\", token)) for token in sentenceTokenizedJonathan]\n",
        "wpWells= [len(re.findall(\"he\", token)) for token in sentenceTokenizedWells]\n",
        "wpDickens= [len(re.findall(\"he\", token)) for token in sentenceTokenizedDickens]\n",
        "print(mean(wpArthur))\n",
        "print(mean(wpJane))\n",
        "print(mean(wpJonathan))\n",
        "print(mean(wpWells))\n",
        "print(mean(wpDickens))\n",
        "print(\"\\n\")\n",
        "wpsArthur= [len(re.findall(\"she\", token)) for token in sentenceTokenizedArthur]\n",
        "wpsJane= [len(re.findall(\"she\", token)) for token in sentenceTokenizedJane]\n",
        "wpsJonathan= [len(re.findall(\"she\", token)) for token in sentenceTokenizedJonathan]\n",
        "wpsWells= [len(re.findall(\"she\", token)) for token in sentenceTokenizedWells]\n",
        "wpsDickens= [len(re.findall(\"she\", token)) for token in sentenceTokenizedDickens]\n",
        "print(mean(wpsArthur))\n",
        "print(mean(wpsJane))\n",
        "print(mean(wpsJonathan))\n",
        "print(mean(wpsWells))\n",
        "print(mean(wpsDickens))\n",
        "print(\"\\n\")\n",
        "print(mean(wpsArthur)/mean(wpArthur))\n",
        "print(mean(wpsJane)/mean(wpJane))\n",
        "print(mean(wpsJonathan)/mean(wpJonathan))\n",
        "print(mean(wpsWells)/mean(wpWells))\n",
        "print(mean(wpsDickens)/mean(wpDickens))\n"
      ],
      "execution_count": 50,
      "outputs": [
        {
          "output_type": "stream",
          "name": "stdout",
          "text": [
            "2.5374107002888944\n",
            "2.344573180235881\n",
            "2.948226592704656\n",
            "2.2928082820846285\n",
            "2.732342494587607\n",
            "\n",
            "\n",
            "0.09468568741182004\n",
            "0.296461786252403\n",
            "0.08608889849434478\n",
            "0.12471252966546903\n",
            "0.14064304415366008\n",
            "\n",
            "\n",
            "0.03731586983575016\n",
            "0.1264459513362585\n",
            "0.029200231321218836\n",
            "0.054392916599236986\n",
            "0.05147343147217251\n"
          ]
        }
      ]
    },
    {
      "cell_type": "code",
      "metadata": {
        "colab": {
          "base_uri": "https://localhost:8080/"
        },
        "id": "lG8klQf96bzU",
        "outputId": "b53718ab-a43b-45ea-9e1b-1fe90a196c77"
      },
      "source": [
        "str='Hey, Mr. Snape! I said, \"Whats your name?\" She did not answer.'\n",
        "wps= [len(re.findall(\"Mr\", token))+len(re.findall(\"Miss\", token))+len(re.findall(\"Ms\", token)) for token in sentenceTokenized(str)]\n",
        "print(wps)"
      ],
      "execution_count": 51,
      "outputs": [
        {
          "output_type": "stream",
          "name": "stdout",
          "text": [
            "[1, 0, 0]\n"
          ]
        }
      ]
    },
    {
      "cell_type": "code",
      "metadata": {
        "id": "IxhDm4q-Wn2z"
      },
      "source": [
        "# counts frequency of each word\n",
        "# returns a dictionary which maps\n",
        "# the words to their frequency.\n",
        "def count_frequency(word_list):\n",
        "\t\n",
        "\tD = {}\n",
        "\t\n",
        "\tfor new_word in word_list:\n",
        "\t\t\n",
        "\t\tif new_word in D:\n",
        "\t\t\tD[new_word] = D[new_word] + 1\n",
        "\t\t\t\n",
        "\t\telse:\n",
        "\t\t\tD[new_word] = 1\n",
        "\t\t\t\n",
        "\treturn D\n",
        "\n",
        "# returns dictionary of (word, frequency)\n",
        "# pairs from the previous dictionary.\n",
        "def word_frequencies_for_file(filename):\n",
        "\t\n",
        "\tline_list = read_file(filename)\n",
        "\tword_list = get_words_from_line_list(line_list)\n",
        "\tfreq_mapping = count_frequency(word_list)\n",
        "\n",
        "\tprint(\"File\", filename, \":\", )\n",
        "\tprint(len(line_list), \"lines, \", )\n",
        "\tprint(len(word_list), \"words, \", )\n",
        "\tprint(len(freq_mapping), \"distinct words\")\n",
        "\n",
        "\treturn freq_mapping\n",
        "\n",
        "# returns the dot product of two documents\n",
        "def dotProduct(D1, D2): \n",
        "    Sum = 0.0\n",
        "      \n",
        "    for key in D1:\n",
        "          \n",
        "        if key in D2:\n",
        "            Sum += (D1[key] * D2[key])\n",
        "              \n",
        "    return Sum\n",
        "  \n",
        "def vector_angle(D1, D2): \n",
        "  numerator = dotProduct(D1, D2)\n",
        "  denominator = math.sqrt(dotProduct(D1, D1)*dotProduct(D2, D2))\n",
        "      \n",
        "  return math.acos(numerator / denominator)\n",
        "\n",
        "\n",
        "  "
      ],
      "execution_count": 52,
      "outputs": []
    },
    {
      "cell_type": "markdown",
      "metadata": {
        "id": "MA3msNdXjohV"
      },
      "source": [
        "#Making Datasets"
      ]
    },
    {
      "cell_type": "code",
      "metadata": {
        "id": "qJ8p_6XNbEhX"
      },
      "source": [
        "import pandas as pd"
      ],
      "execution_count": 53,
      "outputs": []
    },
    {
      "cell_type": "code",
      "metadata": {
        "id": "88J3yMdrGJr2"
      },
      "source": [
        "import re\n",
        "from statistics import mean\n",
        "sentenceTokenizedArthur = sentenceTokenized(corpusArthur)\n",
        "a = block_maker(sentenceTokenizedArthur)\n",
        "df = pd.DataFrame()\n",
        "df['Block'] = a\n",
        "\n",
        "featureList = []\n",
        "wordList = []\n",
        "commaList = []\n",
        "exclaimList = []\n",
        "questionList = []\n",
        "salutationList = []\n",
        "heList = []\n",
        "sheList = []\n",
        "authorName = []\n",
        "for x in a:\n",
        "  s = arr_to_string(x)\n",
        "  sentenceTokenizedArthur = sentenceTokenized(s)\n",
        "  authorName.append('Arthur Conan Doyle')\n",
        "  wpsArthur = [len(re.findall(\" \", token)) for token in sentenceTokenizedArthur]\n",
        "  cpsArthur= [len(re.findall(\",\", token)) for token in sentenceTokenizedArthur]\n",
        "  epsArthur= [len(re.findall(\"!\", token)) for token in sentenceTokenizedArthur]\n",
        "  qpsArthur= [len(re.findall(\"\\?\", token)) for token in sentenceTokenizedArthur]\n",
        "  spsArthur= [len(re.findall(\"mr.\", token))+len(re.findall(\"miss.\", token))+len(re.findall(\"ms.\", token)) for token in sentenceTokenizedArthur]\n",
        "  hpArthur= [len(re.findall(\"he\", token)) for token in sentenceTokenizedArthur]\n",
        "  spArthur= [len(re.findall(\"she\", token)) for token in sentenceTokenizedArthur]\n",
        "\n",
        "  featureList.append(mean(wpsArthur))\n",
        "  commaList.append(mean(cpsArthur))\n",
        "  exclaimList.append(mean(epsArthur))\n",
        "  questionList.append(mean(qpsArthur))\n",
        "  salutationList.append(mean(spsArthur))\n",
        "  heList.append(mean(hpArthur))\n",
        "  sheList.append(mean(spArthur))\n",
        "\n",
        "df['Author Name'] = authorName\n",
        "df['Words per sentence'] = featureList\n",
        "df['Commas per sentence'] = commaList\n",
        "df['Excalimation per sentence'] = exclaimList\n",
        "df['Questions per sentence'] = questionList\n",
        "df['Salutation per sentence'] = salutationList\n",
        "df['He per sentence'] = sheList\n",
        "df['She per sentence'] = heList\n",
        "\n",
        "df.head()\n",
        "df.to_csv('acd.csv')\n",
        "\n"
      ],
      "execution_count": 54,
      "outputs": []
    },
    {
      "cell_type": "code",
      "metadata": {
        "colab": {
          "base_uri": "https://localhost:8080/",
          "height": 310
        },
        "id": "V4HracUpbFrp",
        "outputId": "03c7abf6-b8b8-4592-abd8-f44b1391161c"
      },
      "source": [
        "sentenceTokenizedJane = sentenceTokenized(corpusJane)\n",
        "a = block_maker(sentenceTokenizedJane)\n",
        "df2 = pd.DataFrame()\n",
        "df2['Block'] = a\n",
        "featureList = []\n",
        "wordList = []\n",
        "commaList = []\n",
        "exclaimList = []\n",
        "questionList = []\n",
        "salutationList = []\n",
        "heList = []\n",
        "sheList = []\n",
        "authorName = []\n",
        "for x in a:\n",
        "  s = arr_to_string(x)\n",
        "  sentenceTokenizedJane = sentenceTokenized(s)\n",
        "  authorName.append('Jane Austen')\n",
        "  wps = [len(re.findall(\" \", token)) for token in sentenceTokenizedJane]\n",
        "  cps = [len(re.findall(\",\", token)) for token in sentenceTokenizedJane]\n",
        "  eps = [len(re.findall(\"!\", token)) for token in sentenceTokenizedJane]\n",
        "  qps = [len(re.findall(\"\\?\", token)) for token in sentenceTokenizedJane]\n",
        "  sps = [len(re.findall(\"mr.\", token))+len(re.findall(\"miss.\", token))+len(re.findall(\"ms.\", token)) for token in sentenceTokenizedJane]\n",
        "  hp = [len(re.findall(\"he\", token)) for token in sentenceTokenizedJane]\n",
        "  sp = [len(re.findall(\"she\", token)) for token in sentenceTokenizedJane]\n",
        "\n",
        "  featureList.append(mean(wps))\n",
        "  commaList.append(mean(cps))\n",
        "  exclaimList.append(mean(eps))\n",
        "  questionList.append(mean(qps))\n",
        "  salutationList.append(mean(sps))\n",
        "  heList.append(mean(hp))\n",
        "  sheList.append(mean(sp))\n",
        "\n",
        "df2['Author Name'] = authorName\n",
        "df2['Words per sentence'] = featureList\n",
        "df2['Commas per sentence'] = commaList\n",
        "df2['Excalimation per sentence'] = exclaimList\n",
        "df2['Questions per sentence'] = questionList\n",
        "df2['Salutation per sentence'] = salutationList\n",
        "df2['He per sentence'] = sheList\n",
        "df2['She per sentence'] = heList\n",
        "\n",
        "df2.head()"
      ],
      "execution_count": 55,
      "outputs": [
        {
          "output_type": "execute_result",
          "data": {
            "text/html": [
              "<div>\n",
              "<style scoped>\n",
              "    .dataframe tbody tr th:only-of-type {\n",
              "        vertical-align: middle;\n",
              "    }\n",
              "\n",
              "    .dataframe tbody tr th {\n",
              "        vertical-align: top;\n",
              "    }\n",
              "\n",
              "    .dataframe thead th {\n",
              "        text-align: right;\n",
              "    }\n",
              "</style>\n",
              "<table border=\"1\" class=\"dataframe\">\n",
              "  <thead>\n",
              "    <tr style=\"text-align: right;\">\n",
              "      <th></th>\n",
              "      <th>Block</th>\n",
              "      <th>Author Name</th>\n",
              "      <th>Words per sentence</th>\n",
              "      <th>Commas per sentence</th>\n",
              "      <th>Excalimation per sentence</th>\n",
              "      <th>Questions per sentence</th>\n",
              "      <th>Salutation per sentence</th>\n",
              "      <th>He per sentence</th>\n",
              "      <th>She per sentence</th>\n",
              "    </tr>\n",
              "  </thead>\n",
              "  <tbody>\n",
              "    <tr>\n",
              "      <th>0</th>\n",
              "      <td>[    emma  by jane austen   contents   volume ...</td>\n",
              "      <td>Jane Austen</td>\n",
              "      <td>26.4505</td>\n",
              "      <td>2.0280</td>\n",
              "      <td>0.1605</td>\n",
              "      <td>0.0835</td>\n",
              "      <td>0.4715</td>\n",
              "      <td>0.4270</td>\n",
              "      <td>2.9845</td>\n",
              "    </tr>\n",
              "    <tr>\n",
              "      <th>1</th>\n",
              "      <td>[if any thing, you are too attentive., the muf...</td>\n",
              "      <td>Jane Austen</td>\n",
              "      <td>24.1775</td>\n",
              "      <td>1.8050</td>\n",
              "      <td>0.1745</td>\n",
              "      <td>0.0925</td>\n",
              "      <td>0.5100</td>\n",
              "      <td>0.3620</td>\n",
              "      <td>2.7575</td>\n",
              "    </tr>\n",
              "    <tr>\n",
              "      <th>2</th>\n",
              "      <td>[ah!, dear mrs. elton, so obliged to you for t...</td>\n",
              "      <td>Jane Austen</td>\n",
              "      <td>28.3815</td>\n",
              "      <td>2.3015</td>\n",
              "      <td>0.1980</td>\n",
              "      <td>0.1365</td>\n",
              "      <td>0.4615</td>\n",
              "      <td>0.5135</td>\n",
              "      <td>3.2260</td>\n",
              "    </tr>\n",
              "    <tr>\n",
              "      <th>3</th>\n",
              "      <td>[how can it affect them?, mrs. bennet., my dea...</td>\n",
              "      <td>Jane Austen</td>\n",
              "      <td>7.6005</td>\n",
              "      <td>0.5280</td>\n",
              "      <td>0.0970</td>\n",
              "      <td>0.0775</td>\n",
              "      <td>0.2920</td>\n",
              "      <td>0.0475</td>\n",
              "      <td>0.6875</td>\n",
              "    </tr>\n",
              "    <tr>\n",
              "      <th>4</th>\n",
              "      <td>[[_smiling._] it is usually a good test., but ...</td>\n",
              "      <td>Jane Austen</td>\n",
              "      <td>12.8525</td>\n",
              "      <td>0.9685</td>\n",
              "      <td>0.1075</td>\n",
              "      <td>0.1030</td>\n",
              "      <td>0.2730</td>\n",
              "      <td>0.1950</td>\n",
              "      <td>1.4715</td>\n",
              "    </tr>\n",
              "  </tbody>\n",
              "</table>\n",
              "</div>"
            ],
            "text/plain": [
              "                                               Block  ... She per sentence\n",
              "0  [    emma  by jane austen   contents   volume ...  ...           2.9845\n",
              "1  [if any thing, you are too attentive., the muf...  ...           2.7575\n",
              "2  [ah!, dear mrs. elton, so obliged to you for t...  ...           3.2260\n",
              "3  [how can it affect them?, mrs. bennet., my dea...  ...           0.6875\n",
              "4  [[_smiling._] it is usually a good test., but ...  ...           1.4715\n",
              "\n",
              "[5 rows x 9 columns]"
            ]
          },
          "metadata": {},
          "execution_count": 55
        }
      ]
    },
    {
      "cell_type": "code",
      "metadata": {
        "colab": {
          "base_uri": "https://localhost:8080/",
          "height": 310
        },
        "id": "4dfeaefUewvh",
        "outputId": "261672d3-ce4a-4d0c-d74f-2464eb295be3"
      },
      "source": [
        "sentenceTokenizedWells = sentenceTokenized(corpusWells)\n",
        "a = block_maker(sentenceTokenizedWells)\n",
        "df3 = pd.DataFrame()\n",
        "df3['Block'] = a\n",
        "\n",
        "featureList = []\n",
        "wordList = []\n",
        "commaList = []\n",
        "exclaimList = []\n",
        "questionList = []\n",
        "salutationList = []\n",
        "heList = []\n",
        "sheList = []\n",
        "authorName = []\n",
        "for x in a:\n",
        "  s = arr_to_string(x)\n",
        "  sentenceTokenizedWells = sentenceTokenized(s)\n",
        "  authorName.append('H. G. Wells')\n",
        "  wps = [len(re.findall(\" \", token)) for token in sentenceTokenizedWells]\n",
        "  cps = [len(re.findall(\",\", token)) for token in sentenceTokenizedWells]\n",
        "  eps = [len(re.findall(\"!\", token)) for token in sentenceTokenizedWells]\n",
        "  qps = [len(re.findall(\"\\?\", token)) for token in sentenceTokenizedWells]\n",
        "  sps = [len(re.findall(\"mr.\", token))+len(re.findall(\"miss.\", token))+len(re.findall(\"ms.\", token)) for token in sentenceTokenizedWells]\n",
        "  hp = [len(re.findall(\"he\", token)) for token in sentenceTokenizedWells]\n",
        "  sp = [len(re.findall(\"she\", token)) for token in sentenceTokenizedWells]\n",
        "\n",
        "  featureList.append(mean(wps))\n",
        "  commaList.append(mean(cps))\n",
        "  exclaimList.append(mean(eps))\n",
        "  questionList.append(mean(qps))\n",
        "  salutationList.append(mean(sps))\n",
        "  heList.append(mean(hp))\n",
        "  sheList.append(mean(sp))\n",
        "\n",
        "df3['Author Name'] = authorName\n",
        "df3['Words per sentence'] = featureList\n",
        "df3['Commas per sentence'] = commaList\n",
        "df3['Excalimation per sentence'] = exclaimList\n",
        "df3['Questions per sentence'] = questionList\n",
        "df3['Salutation per sentence'] = salutationList\n",
        "df3['He per sentence'] = sheList\n",
        "df3['She per sentence'] = heList\n",
        "\n",
        "df3.head()"
      ],
      "execution_count": 56,
      "outputs": [
        {
          "output_type": "execute_result",
          "data": {
            "text/html": [
              "<div>\n",
              "<style scoped>\n",
              "    .dataframe tbody tr th:only-of-type {\n",
              "        vertical-align: middle;\n",
              "    }\n",
              "\n",
              "    .dataframe tbody tr th {\n",
              "        vertical-align: top;\n",
              "    }\n",
              "\n",
              "    .dataframe thead th {\n",
              "        text-align: right;\n",
              "    }\n",
              "</style>\n",
              "<table border=\"1\" class=\"dataframe\">\n",
              "  <thead>\n",
              "    <tr style=\"text-align: right;\">\n",
              "      <th></th>\n",
              "      <th>Block</th>\n",
              "      <th>Author Name</th>\n",
              "      <th>Words per sentence</th>\n",
              "      <th>Commas per sentence</th>\n",
              "      <th>Excalimation per sentence</th>\n",
              "      <th>Questions per sentence</th>\n",
              "      <th>Salutation per sentence</th>\n",
              "      <th>He per sentence</th>\n",
              "      <th>She per sentence</th>\n",
              "    </tr>\n",
              "  </thead>\n",
              "  <tbody>\n",
              "    <tr>\n",
              "      <th>0</th>\n",
              "      <td>[*   title: a modern utopia  author: h. g. wel...</td>\n",
              "      <td>H. G. Wells</td>\n",
              "      <td>22.211</td>\n",
              "      <td>1.0105</td>\n",
              "      <td>0.0010</td>\n",
              "      <td>0.0035</td>\n",
              "      <td>0.0675</td>\n",
              "      <td>0.0580</td>\n",
              "      <td>3.0000</td>\n",
              "    </tr>\n",
              "    <tr>\n",
              "      <th>1</th>\n",
              "      <td>[no effectual legal check remained upon the bi...</td>\n",
              "      <td>H. G. Wells</td>\n",
              "      <td>22.938</td>\n",
              "      <td>1.1550</td>\n",
              "      <td>0.0040</td>\n",
              "      <td>0.0075</td>\n",
              "      <td>0.0710</td>\n",
              "      <td>0.0320</td>\n",
              "      <td>3.2045</td>\n",
              "    </tr>\n",
              "    <tr>\n",
              "      <th>2</th>\n",
              "      <td>[and as the nineteenth century went on, the pl...</td>\n",
              "      <td>H. G. Wells</td>\n",
              "      <td>27.016</td>\n",
              "      <td>3.4360</td>\n",
              "      <td>0.0065</td>\n",
              "      <td>0.0300</td>\n",
              "      <td>0.0870</td>\n",
              "      <td>0.0495</td>\n",
              "      <td>2.4945</td>\n",
              "    </tr>\n",
              "    <tr>\n",
              "      <th>3</th>\n",
              "      <td>[throughout this essay these expressions will ...</td>\n",
              "      <td>H. G. Wells</td>\n",
              "      <td>29.621</td>\n",
              "      <td>1.9475</td>\n",
              "      <td>0.0050</td>\n",
              "      <td>0.0370</td>\n",
              "      <td>0.1385</td>\n",
              "      <td>0.0385</td>\n",
              "      <td>3.0685</td>\n",
              "    </tr>\n",
              "    <tr>\n",
              "      <th>4</th>\n",
              "      <td>[the real interest of america for the next cen...</td>\n",
              "      <td>H. G. Wells</td>\n",
              "      <td>20.625</td>\n",
              "      <td>1.3960</td>\n",
              "      <td>0.0805</td>\n",
              "      <td>0.0835</td>\n",
              "      <td>0.1345</td>\n",
              "      <td>0.3315</td>\n",
              "      <td>2.6085</td>\n",
              "    </tr>\n",
              "  </tbody>\n",
              "</table>\n",
              "</div>"
            ],
            "text/plain": [
              "                                               Block  ... She per sentence\n",
              "0  [*   title: a modern utopia  author: h. g. wel...  ...           3.0000\n",
              "1  [no effectual legal check remained upon the bi...  ...           3.2045\n",
              "2  [and as the nineteenth century went on, the pl...  ...           2.4945\n",
              "3  [throughout this essay these expressions will ...  ...           3.0685\n",
              "4  [the real interest of america for the next cen...  ...           2.6085\n",
              "\n",
              "[5 rows x 9 columns]"
            ]
          },
          "metadata": {},
          "execution_count": 56
        }
      ]
    },
    {
      "cell_type": "code",
      "metadata": {
        "colab": {
          "base_uri": "https://localhost:8080/",
          "height": 327
        },
        "id": "6ojPpqHSfXDD",
        "outputId": "704f1ff0-7674-4374-a7a0-a9fbe47d847c"
      },
      "source": [
        "sentenceTokenizedJonathan = sentenceTokenized(corpusJonathan)\n",
        "a = block_maker(sentenceTokenizedJonathan)\n",
        "df4 = pd.DataFrame()\n",
        "df4['Block'] = a\n",
        "\n",
        "featureList = []\n",
        "wordList = []\n",
        "commaList = []\n",
        "exclaimList = []\n",
        "questionList = []\n",
        "salutationList = []\n",
        "heList = []\n",
        "sheList = []\n",
        "authorName = []\n",
        "for x in a:\n",
        "  s = arr_to_string(x)\n",
        "  sentenceTokenizedJonathan = sentenceTokenized(s)\n",
        "  authorName.append('Jonathan Swift')\n",
        "  wps = [len(re.findall(\" \", token)) for token in sentenceTokenizedJonathan]\n",
        "  cps = [len(re.findall(\",\", token)) for token in sentenceTokenizedJonathan]\n",
        "  eps = [len(re.findall(\"!\", token)) for token in sentenceTokenizedJonathan]\n",
        "  qps = [len(re.findall(\"\\?\", token)) for token in sentenceTokenizedJonathan]\n",
        "  sps = [len(re.findall(\"mr.\", token))+len(re.findall(\"miss.\", token))+len(re.findall(\"ms.\", token)) for token in sentenceTokenizedJonathan]\n",
        "  hp = [len(re.findall(\"he\", token)) for token in sentenceTokenizedJonathan]\n",
        "  sp = [len(re.findall(\"she\", token)) for token in sentenceTokenizedJonathan]\n",
        "\n",
        "  featureList.append(mean(wps))\n",
        "  commaList.append(mean(cps))\n",
        "  exclaimList.append(mean(eps))\n",
        "  questionList.append(mean(qps))\n",
        "  salutationList.append(mean(sps))\n",
        "  heList.append(mean(hp))\n",
        "  sheList.append(mean(sp))\n",
        "\n",
        "df4['Author Name'] = authorName\n",
        "df4['Words per sentence'] = featureList\n",
        "df4['Commas per sentence'] = commaList\n",
        "df4['Excalimation per sentence'] = exclaimList\n",
        "df4['Questions per sentence'] = questionList\n",
        "df4['Salutation per sentence'] = salutationList\n",
        "df4['He per sentence'] = sheList\n",
        "df4['She per sentence'] = heList\n",
        "\n",
        "df4.head()"
      ],
      "execution_count": 57,
      "outputs": [
        {
          "output_type": "execute_result",
          "data": {
            "text/html": [
              "<div>\n",
              "<style scoped>\n",
              "    .dataframe tbody tr th:only-of-type {\n",
              "        vertical-align: middle;\n",
              "    }\n",
              "\n",
              "    .dataframe tbody tr th {\n",
              "        vertical-align: top;\n",
              "    }\n",
              "\n",
              "    .dataframe thead th {\n",
              "        text-align: right;\n",
              "    }\n",
              "</style>\n",
              "<table border=\"1\" class=\"dataframe\">\n",
              "  <thead>\n",
              "    <tr style=\"text-align: right;\">\n",
              "      <th></th>\n",
              "      <th>Block</th>\n",
              "      <th>Author Name</th>\n",
              "      <th>Words per sentence</th>\n",
              "      <th>Commas per sentence</th>\n",
              "      <th>Excalimation per sentence</th>\n",
              "      <th>Questions per sentence</th>\n",
              "      <th>Salutation per sentence</th>\n",
              "      <th>He per sentence</th>\n",
              "      <th>She per sentence</th>\n",
              "    </tr>\n",
              "  </thead>\n",
              "  <tbody>\n",
              "    <tr>\n",
              "      <th>0</th>\n",
              "      <td>[    a modest proposal  for preventing the chi...</td>\n",
              "      <td>Jonathan Swift</td>\n",
              "      <td>41.275000</td>\n",
              "      <td>3.160500</td>\n",
              "      <td>0.010500</td>\n",
              "      <td>0.023000</td>\n",
              "      <td>0.156000</td>\n",
              "      <td>0.063500</td>\n",
              "      <td>4.350000</td>\n",
              "    </tr>\n",
              "    <tr>\n",
              "      <th>1</th>\n",
              "      <td>[he then sent his servants to their work, and ...</td>\n",
              "      <td>Jonathan Swift</td>\n",
              "      <td>37.564000</td>\n",
              "      <td>3.148500</td>\n",
              "      <td>0.004500</td>\n",
              "      <td>0.005500</td>\n",
              "      <td>0.141000</td>\n",
              "      <td>0.086000</td>\n",
              "      <td>4.385000</td>\n",
              "    </tr>\n",
              "    <tr>\n",
              "      <th>2</th>\n",
              "      <td>[however, they soon returned, and one of them,...</td>\n",
              "      <td>Jonathan Swift</td>\n",
              "      <td>38.046500</td>\n",
              "      <td>3.698000</td>\n",
              "      <td>0.005500</td>\n",
              "      <td>0.019500</td>\n",
              "      <td>0.102500</td>\n",
              "      <td>0.096500</td>\n",
              "      <td>4.506500</td>\n",
              "    </tr>\n",
              "    <tr>\n",
              "      <th>3</th>\n",
              "      <td>[in speaking, they pronounced through the nose...</td>\n",
              "      <td>Jonathan Swift</td>\n",
              "      <td>36.580500</td>\n",
              "      <td>3.415000</td>\n",
              "      <td>0.004000</td>\n",
              "      <td>0.020500</td>\n",
              "      <td>0.126000</td>\n",
              "      <td>0.102000</td>\n",
              "      <td>4.225000</td>\n",
              "    </tr>\n",
              "    <tr>\n",
              "      <th>4</th>\n",
              "      <td>[[23] _skirt_: coat-tail., [24] _alcoran_ the ...</td>\n",
              "      <td>Jonathan Swift</td>\n",
              "      <td>32.038519</td>\n",
              "      <td>2.747374</td>\n",
              "      <td>0.078039</td>\n",
              "      <td>0.057029</td>\n",
              "      <td>0.153577</td>\n",
              "      <td>0.077039</td>\n",
              "      <td>3.185593</td>\n",
              "    </tr>\n",
              "  </tbody>\n",
              "</table>\n",
              "</div>"
            ],
            "text/plain": [
              "                                               Block  ... She per sentence\n",
              "0  [    a modest proposal  for preventing the chi...  ...         4.350000\n",
              "1  [he then sent his servants to their work, and ...  ...         4.385000\n",
              "2  [however, they soon returned, and one of them,...  ...         4.506500\n",
              "3  [in speaking, they pronounced through the nose...  ...         4.225000\n",
              "4  [[23] _skirt_: coat-tail., [24] _alcoran_ the ...  ...         3.185593\n",
              "\n",
              "[5 rows x 9 columns]"
            ]
          },
          "metadata": {},
          "execution_count": 57
        }
      ]
    },
    {
      "cell_type": "code",
      "metadata": {
        "colab": {
          "base_uri": "https://localhost:8080/",
          "height": 310
        },
        "id": "ZhFfyUfTiyJF",
        "outputId": "24c24ab9-21d3-46e8-cd2f-de5559f4e624"
      },
      "source": [
        "sentenceTokenizedDickens = sentenceTokenized(corpusDickens)\n",
        "a = block_maker(sentenceTokenizedDickens)\n",
        "df5 = pd.DataFrame()\n",
        "df5['Block'] = a\n",
        "\n",
        "featureList = []\n",
        "wordList = []\n",
        "commaList = []\n",
        "exclaimList = []\n",
        "questionList = []\n",
        "salutationList = []\n",
        "heList = []\n",
        "sheList = []\n",
        "authorName = []\n",
        "for x in a:\n",
        "  s = arr_to_string(x)\n",
        "  sentenceTokenizedDickens = sentenceTokenized(s)\n",
        "  authorName.append('Charles Dickens')\n",
        "  wps = [len(re.findall(\" \", token)) for token in sentenceTokenizedDickens]\n",
        "  cps = [len(re.findall(\",\", token)) for token in sentenceTokenizedDickens]\n",
        "  eps = [len(re.findall(\"!\", token)) for token in sentenceTokenizedDickens]\n",
        "  qps = [len(re.findall(\"\\?\", token)) for token in sentenceTokenizedDickens]\n",
        "  sps = [len(re.findall(\"mr.\", token))+len(re.findall(\"miss.\", token))+len(re.findall(\"ms.\", token)) for token in sentenceTokenizedDickens]\n",
        "  hp = [len(re.findall(\"he\", token)) for token in sentenceTokenizedDickens]\n",
        "  sp = [len(re.findall(\"she\", token)) for token in sentenceTokenizedDickens]\n",
        "\n",
        "  featureList.append(mean(wps))\n",
        "  commaList.append(mean(cps))\n",
        "  exclaimList.append(mean(eps))\n",
        "  questionList.append(mean(qps))\n",
        "  salutationList.append(mean(sps))\n",
        "  heList.append(mean(hp))\n",
        "  sheList.append(mean(sp))\n",
        "\n",
        "df5['Author Name'] = authorName\n",
        "df5['Words per sentence'] = featureList\n",
        "df5['Commas per sentence'] = commaList\n",
        "df5['Excalimation per sentence'] = exclaimList\n",
        "df5['Questions per sentence'] = questionList\n",
        "df5['Salutation per sentence'] = salutationList\n",
        "df5['He per sentence'] = sheList\n",
        "df5['She per sentence'] = heList\n",
        "\n",
        "df5.head()"
      ],
      "execution_count": 58,
      "outputs": [
        {
          "output_type": "execute_result",
          "data": {
            "text/html": [
              "<div>\n",
              "<style scoped>\n",
              "    .dataframe tbody tr th:only-of-type {\n",
              "        vertical-align: middle;\n",
              "    }\n",
              "\n",
              "    .dataframe tbody tr th {\n",
              "        vertical-align: top;\n",
              "    }\n",
              "\n",
              "    .dataframe thead th {\n",
              "        text-align: right;\n",
              "    }\n",
              "</style>\n",
              "<table border=\"1\" class=\"dataframe\">\n",
              "  <thead>\n",
              "    <tr style=\"text-align: right;\">\n",
              "      <th></th>\n",
              "      <th>Block</th>\n",
              "      <th>Author Name</th>\n",
              "      <th>Words per sentence</th>\n",
              "      <th>Commas per sentence</th>\n",
              "      <th>Excalimation per sentence</th>\n",
              "      <th>Questions per sentence</th>\n",
              "      <th>Salutation per sentence</th>\n",
              "      <th>He per sentence</th>\n",
              "      <th>She per sentence</th>\n",
              "    </tr>\n",
              "  </thead>\n",
              "  <tbody>\n",
              "    <tr>\n",
              "      <th>0</th>\n",
              "      <td>[    produced by charlene taylor, emmy and the...</td>\n",
              "      <td>Charles Dickens</td>\n",
              "      <td>10.7820</td>\n",
              "      <td>0.9350</td>\n",
              "      <td>0.1395</td>\n",
              "      <td>0.1130</td>\n",
              "      <td>0.1225</td>\n",
              "      <td>0.0195</td>\n",
              "      <td>0.9350</td>\n",
              "    </tr>\n",
              "    <tr>\n",
              "      <th>1</th>\n",
              "      <td>[he was not alone, but sat by the side of a fa...</td>\n",
              "      <td>Charles Dickens</td>\n",
              "      <td>14.0375</td>\n",
              "      <td>1.4320</td>\n",
              "      <td>0.2050</td>\n",
              "      <td>0.0905</td>\n",
              "      <td>0.0710</td>\n",
              "      <td>0.0960</td>\n",
              "      <td>1.8735</td>\n",
              "    </tr>\n",
              "    <tr>\n",
              "      <th>2</th>\n",
              "      <td>[for myself, master, i never took with that ha...</td>\n",
              "      <td>Charles Dickens</td>\n",
              "      <td>14.8445</td>\n",
              "      <td>1.3185</td>\n",
              "      <td>0.1540</td>\n",
              "      <td>0.0825</td>\n",
              "      <td>0.0765</td>\n",
              "      <td>0.2630</td>\n",
              "      <td>2.2675</td>\n",
              "    </tr>\n",
              "    <tr>\n",
              "      <th>3</th>\n",
              "      <td>[he laughed, as he set himself down on a flat ...</td>\n",
              "      <td>Charles Dickens</td>\n",
              "      <td>20.5385</td>\n",
              "      <td>2.0410</td>\n",
              "      <td>0.0830</td>\n",
              "      <td>0.0570</td>\n",
              "      <td>0.0860</td>\n",
              "      <td>0.1285</td>\n",
              "      <td>3.0810</td>\n",
              "    </tr>\n",
              "    <tr>\n",
              "      <th>4</th>\n",
              "      <td>[while he stayed at rouen, negotiating with th...</td>\n",
              "      <td>Charles Dickens</td>\n",
              "      <td>30.1980</td>\n",
              "      <td>3.0155</td>\n",
              "      <td>0.0635</td>\n",
              "      <td>0.0235</td>\n",
              "      <td>0.1325</td>\n",
              "      <td>0.1245</td>\n",
              "      <td>4.6430</td>\n",
              "    </tr>\n",
              "  </tbody>\n",
              "</table>\n",
              "</div>"
            ],
            "text/plain": [
              "                                               Block  ... She per sentence\n",
              "0  [    produced by charlene taylor, emmy and the...  ...           0.9350\n",
              "1  [he was not alone, but sat by the side of a fa...  ...           1.8735\n",
              "2  [for myself, master, i never took with that ha...  ...           2.2675\n",
              "3  [he laughed, as he set himself down on a flat ...  ...           3.0810\n",
              "4  [while he stayed at rouen, negotiating with th...  ...           4.6430\n",
              "\n",
              "[5 rows x 9 columns]"
            ]
          },
          "metadata": {},
          "execution_count": 58
        }
      ]
    }
  ]
}