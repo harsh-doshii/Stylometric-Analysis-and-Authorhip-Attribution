{
  "nbformat": 4,
  "nbformat_minor": 0,
  "metadata": {
    "colab": {
      "name": "Nb2 NLP_NGramFeatureGen1.ipynb",
      "provenance": [],
      "collapsed_sections": []
    },
    "kernelspec": {
      "name": "python3",
      "display_name": "Python 3"
    },
    "language_info": {
      "name": "python"
    }
  },
  "cells": [
    {
      "cell_type": "code",
      "metadata": {
        "colab": {
          "base_uri": "https://localhost:8080/"
        },
        "id": "tfUOUFIwHTEn",
        "outputId": "6edba5e4-0d01-4c48-f6f1-5a7818ad22c6"
      },
      "source": [
        "import os\n",
        "import pandas as pd\n",
        "from sklearn.model_selection import train_test_split\n",
        "from nltk.collocations import *\n",
        "import nltk\n",
        "import re\n",
        "nltk.download('punkt')\n",
        "import copy\n",
        "import pickle"
      ],
      "execution_count": null,
      "outputs": [
        {
          "output_type": "stream",
          "name": "stdout",
          "text": [
            "[nltk_data] Downloading package punkt to /root/nltk_data...\n",
            "[nltk_data]   Unzipping tokenizers/punkt.zip.\n"
          ]
        }
      ]
    },
    {
      "cell_type": "code",
      "metadata": {
        "id": "zEuNWcVMI1hl"
      },
      "source": [
        "df = pd.read_csv('/content/drive/MyDrive/Colab Dataset Zoo/final_csv.csv', index_col=0)"
      ],
      "execution_count": null,
      "outputs": []
    },
    {
      "cell_type": "code",
      "metadata": {
        "colab": {
          "base_uri": "https://localhost:8080/",
          "height": 397
        },
        "id": "KDhC7mrHI8R-",
        "outputId": "59499232-5409-41dd-8bbc-6fa9161e44d8"
      },
      "source": [
        "df.head()"
      ],
      "execution_count": null,
      "outputs": [
        {
          "output_type": "execute_result",
          "data": {
            "text/html": [
              "<div>\n",
              "<style scoped>\n",
              "    .dataframe tbody tr th:only-of-type {\n",
              "        vertical-align: middle;\n",
              "    }\n",
              "\n",
              "    .dataframe tbody tr th {\n",
              "        vertical-align: top;\n",
              "    }\n",
              "\n",
              "    .dataframe thead th {\n",
              "        text-align: right;\n",
              "    }\n",
              "</style>\n",
              "<table border=\"1\" class=\"dataframe\">\n",
              "  <thead>\n",
              "    <tr style=\"text-align: right;\">\n",
              "      <th></th>\n",
              "      <th>Block</th>\n",
              "      <th>Author Name</th>\n",
              "      <th>Words per sentence</th>\n",
              "      <th>Commas per sentence</th>\n",
              "      <th>Excalimation per sentence</th>\n",
              "      <th>Questions per sentence</th>\n",
              "      <th>Salutation per sentence</th>\n",
              "      <th>He per sentence</th>\n",
              "      <th>She per sentence</th>\n",
              "    </tr>\n",
              "  </thead>\n",
              "  <tbody>\n",
              "    <tr>\n",
              "      <th>0</th>\n",
              "      <td>['    produced by david brannan.', 'html versi...</td>\n",
              "      <td>Arthur Conan Doyle</td>\n",
              "      <td>14.5785</td>\n",
              "      <td>1.1255</td>\n",
              "      <td>0.0600</td>\n",
              "      <td>0.1175</td>\n",
              "      <td>0.1205</td>\n",
              "      <td>0.1515</td>\n",
              "      <td>1.8845</td>\n",
              "    </tr>\n",
              "    <tr>\n",
              "      <th>1</th>\n",
              "      <td>['if your peace should help another to peace, ...</td>\n",
              "      <td>Arthur Conan Doyle</td>\n",
              "      <td>12.6110</td>\n",
              "      <td>0.9550</td>\n",
              "      <td>0.1050</td>\n",
              "      <td>0.0820</td>\n",
              "      <td>0.0425</td>\n",
              "      <td>0.0705</td>\n",
              "      <td>1.5245</td>\n",
              "    </tr>\n",
              "    <tr>\n",
              "      <th>2</th>\n",
              "      <td>['and so we must cut down every expense until ...</td>\n",
              "      <td>Arthur Conan Doyle</td>\n",
              "      <td>10.4260</td>\n",
              "      <td>0.8675</td>\n",
              "      <td>0.1015</td>\n",
              "      <td>0.1230</td>\n",
              "      <td>0.1050</td>\n",
              "      <td>0.0795</td>\n",
              "      <td>1.1125</td>\n",
              "    </tr>\n",
              "    <tr>\n",
              "      <th>3</th>\n",
              "      <td>['how mean of them!', 'dont let them have it, ...</td>\n",
              "      <td>Arthur Conan Doyle</td>\n",
              "      <td>15.8695</td>\n",
              "      <td>1.0500</td>\n",
              "      <td>0.0750</td>\n",
              "      <td>0.0685</td>\n",
              "      <td>0.0405</td>\n",
              "      <td>0.1200</td>\n",
              "      <td>2.2515</td>\n",
              "    </tr>\n",
              "    <tr>\n",
              "      <th>4</th>\n",
              "      <td>['it will be remembered that the 46th brigade ...</td>\n",
              "      <td>Arthur Conan Doyle</td>\n",
              "      <td>28.9245</td>\n",
              "      <td>1.8555</td>\n",
              "      <td>0.0035</td>\n",
              "      <td>0.0005</td>\n",
              "      <td>0.0765</td>\n",
              "      <td>0.0905</td>\n",
              "      <td>4.8365</td>\n",
              "    </tr>\n",
              "  </tbody>\n",
              "</table>\n",
              "</div>"
            ],
            "text/plain": [
              "                                               Block  ... She per sentence\n",
              "0  ['    produced by david brannan.', 'html versi...  ...           1.8845\n",
              "1  ['if your peace should help another to peace, ...  ...           1.5245\n",
              "2  ['and so we must cut down every expense until ...  ...           1.1125\n",
              "3  ['how mean of them!', 'dont let them have it, ...  ...           2.2515\n",
              "4  ['it will be remembered that the 46th brigade ...  ...           4.8365\n",
              "\n",
              "[5 rows x 9 columns]"
            ]
          },
          "metadata": {},
          "execution_count": 3
        }
      ]
    },
    {
      "cell_type": "code",
      "metadata": {
        "id": "56mdYntfKV05"
      },
      "source": [
        "X = df.drop(['Author Name'], axis=1)\n",
        "y = df['Author Name']"
      ],
      "execution_count": null,
      "outputs": []
    },
    {
      "cell_type": "code",
      "metadata": {
        "id": "MccrFIoVI9kP"
      },
      "source": [
        "X_train, X_test, y_train, y_test = train_test_split(X, y, stratify=y, test_size=0.2, shuffle= True)"
      ],
      "execution_count": null,
      "outputs": []
    },
    {
      "cell_type": "code",
      "metadata": {
        "id": "r1Yauw3NmeEX"
      },
      "source": [
        "X_train.to_csv('X_train.csv', index = False)\n",
        "X_test.to_csv('X_test.csv', index = False)\n",
        "y_train.to_csv('y_train.csv', index = False)\n",
        "y_test.to_csv('y_test.csv', index = False)"
      ],
      "execution_count": null,
      "outputs": []
    },
    {
      "cell_type": "code",
      "metadata": {
        "id": "b8gmXhbonHcX"
      },
      "source": [
        "!mv '/content/X_test.csv' '/content/drive/MyDrive/Colab Dataset Zoo/NLP Stuff/Final Final Model'\n",
        "!mv '/content/y_test.csv' '/content/drive/MyDrive/Colab Dataset Zoo/NLP Stuff/Final Final Model'\n",
        "!mv '/content/X_train.csv' '/content/drive/MyDrive/Colab Dataset Zoo/NLP Stuff/Final Final Model'\n",
        "!mv '/content/y_train.csv' '/content/drive/MyDrive/Colab Dataset Zoo/NLP Stuff/Final Final Model'"
      ],
      "execution_count": null,
      "outputs": []
    },
    {
      "cell_type": "code",
      "metadata": {
        "colab": {
          "base_uri": "https://localhost:8080/",
          "height": 345
        },
        "id": "a6rhyVVJLe9d",
        "outputId": "5c52cae0-7372-45d4-a838-8e946e04614e"
      },
      "source": [
        "X_train.head()"
      ],
      "execution_count": null,
      "outputs": [
        {
          "output_type": "execute_result",
          "data": {
            "text/html": [
              "<div>\n",
              "<style scoped>\n",
              "    .dataframe tbody tr th:only-of-type {\n",
              "        vertical-align: middle;\n",
              "    }\n",
              "\n",
              "    .dataframe tbody tr th {\n",
              "        vertical-align: top;\n",
              "    }\n",
              "\n",
              "    .dataframe thead th {\n",
              "        text-align: right;\n",
              "    }\n",
              "</style>\n",
              "<table border=\"1\" class=\"dataframe\">\n",
              "  <thead>\n",
              "    <tr style=\"text-align: right;\">\n",
              "      <th></th>\n",
              "      <th>Block</th>\n",
              "      <th>Words per sentence</th>\n",
              "      <th>Commas per sentence</th>\n",
              "      <th>Excalimation per sentence</th>\n",
              "      <th>Questions per sentence</th>\n",
              "      <th>Salutation per sentence</th>\n",
              "      <th>He per sentence</th>\n",
              "      <th>She per sentence</th>\n",
              "    </tr>\n",
              "  </thead>\n",
              "  <tbody>\n",
              "    <tr>\n",
              "      <th>221</th>\n",
              "      <td>[\"women of her sort between ourselves, tom don...</td>\n",
              "      <td>16.6920</td>\n",
              "      <td>1.3325</td>\n",
              "      <td>0.0800</td>\n",
              "      <td>0.0595</td>\n",
              "      <td>0.2335</td>\n",
              "      <td>0.0950</td>\n",
              "      <td>2.3210</td>\n",
              "    </tr>\n",
              "    <tr>\n",
              "      <th>306</th>\n",
              "      <td>['he has got some templars from ireland that s...</td>\n",
              "      <td>22.4855</td>\n",
              "      <td>1.9870</td>\n",
              "      <td>0.0250</td>\n",
              "      <td>0.1265</td>\n",
              "      <td>0.2420</td>\n",
              "      <td>0.0660</td>\n",
              "      <td>1.8860</td>\n",
              "    </tr>\n",
              "    <tr>\n",
              "      <th>52</th>\n",
              "      <td>['that all dam-lies.', 'you is eulopean missio...</td>\n",
              "      <td>14.0175</td>\n",
              "      <td>1.0325</td>\n",
              "      <td>0.0620</td>\n",
              "      <td>0.0745</td>\n",
              "      <td>0.0765</td>\n",
              "      <td>0.0875</td>\n",
              "      <td>1.6560</td>\n",
              "    </tr>\n",
              "    <tr>\n",
              "      <th>388</th>\n",
              "      <td>['mr. datchery, taking off his hat to give tha...</td>\n",
              "      <td>17.7715</td>\n",
              "      <td>1.7960</td>\n",
              "      <td>0.1030</td>\n",
              "      <td>0.1255</td>\n",
              "      <td>0.3375</td>\n",
              "      <td>0.1330</td>\n",
              "      <td>2.1415</td>\n",
              "    </tr>\n",
              "    <tr>\n",
              "      <th>11</th>\n",
              "      <td>['it might have been any one of four or five.'...</td>\n",
              "      <td>21.7280</td>\n",
              "      <td>1.3070</td>\n",
              "      <td>0.0245</td>\n",
              "      <td>0.0450</td>\n",
              "      <td>0.2745</td>\n",
              "      <td>0.0695</td>\n",
              "      <td>2.3250</td>\n",
              "    </tr>\n",
              "  </tbody>\n",
              "</table>\n",
              "</div>"
            ],
            "text/plain": [
              "                                                 Block  ...  She per sentence\n",
              "221  [\"women of her sort between ourselves, tom don...  ...            2.3210\n",
              "306  ['he has got some templars from ireland that s...  ...            1.8860\n",
              "52   ['that all dam-lies.', 'you is eulopean missio...  ...            1.6560\n",
              "388  ['mr. datchery, taking off his hat to give tha...  ...            2.1415\n",
              "11   ['it might have been any one of four or five.'...  ...            2.3250\n",
              "\n",
              "[5 rows x 8 columns]"
            ]
          },
          "metadata": {},
          "execution_count": 9
        }
      ]
    },
    {
      "cell_type": "code",
      "metadata": {
        "id": "-MjdKm27TVqB"
      },
      "source": [
        "def get_bigrams_from_text(content1):  \n",
        "  finder = BigramCollocationFinder.from_words(content1)\n",
        "  # finder.nbest(bigram_measures.raw_freq, 100)\n",
        "  bigram_array = []\n",
        "  for k,v in finder.ngram_fd.items():\n",
        "    if k[0] !='.' and k[1] != '.' and k[0] != 'project':\n",
        "      bigram_array.append([k,v])\n",
        "  \n",
        "  bigram_array = sorted(bigram_array, key=lambda bigram_array: -bigram_array[1])\n",
        "  return bigram_array\n",
        "\n",
        "def get_trigrams_from_text(content1):  \n",
        "  finder = TrigramCollocationFinder.from_words(content1)\n",
        "  # finder.nbest(bigram_measures.raw_freq, 100)\n",
        "  trigram_array = []\n",
        "  for k,v in finder.ngram_fd.items():\n",
        "    if k[0] !='.' and k[1] != '.':\n",
        "      trigram_array.append([k,v])\n",
        "  \n",
        "  trigram_array = sorted(trigram_array, key=lambda trigram_array: -trigram_array[1])\n",
        "  return trigram_array"
      ],
      "execution_count": null,
      "outputs": []
    },
    {
      "cell_type": "code",
      "metadata": {
        "id": "B25rOT8bN2RM"
      },
      "source": [
        "content_dict = {'Arthur Conan Doyle' : '',\n",
        "                'Charles Dickens' : '',\n",
        "                'H. G. Wells' : '',\n",
        "                'Jonathan Swift' : '',\n",
        "                'Jane Austen' : ''\n",
        "                }\n",
        "\n",
        "bigrams = copy.deepcopy(content_dict)\n",
        "bigram_features = {'Arthur Conan Doyle' : [],\n",
        "                   'Charles Dickens' : [],\n",
        "                   'H. G. Wells' : [],\n",
        "                   'Jonathan Swift' : [],\n",
        "                   'Jane Austen' : []\n",
        "                   }\n",
        "\n",
        "trigrams = copy.deepcopy(content_dict)\n",
        "trigram_features = copy.deepcopy(bigram_features)"
      ],
      "execution_count": null,
      "outputs": []
    },
    {
      "cell_type": "code",
      "metadata": {
        "id": "TRaAzqLYRlWd"
      },
      "source": [
        "#From blocks to entire work corpus of an author\n",
        "for myindex in X_train.index:\n",
        "     content_dict[y_train[myindex]] += X_train['Block'][myindex]"
      ],
      "execution_count": null,
      "outputs": []
    },
    {
      "cell_type": "code",
      "metadata": {
        "id": "z4hbwRyUXVK3"
      },
      "source": [
        "from nltk.tokenize import RegexpTokenizer\n",
        "def spaceTokenized(corpus):\n",
        "  words = corpus\n",
        "  tokenizer = RegexpTokenizer(r'\\w+')\n",
        "  words = tokenizer.tokenize(words)\n",
        "  len(words)\n",
        "  return words"
      ],
      "execution_count": null,
      "outputs": []
    },
    {
      "cell_type": "code",
      "metadata": {
        "colab": {
          "base_uri": "https://localhost:8080/"
        },
        "id": "VTfic8IjXQUr",
        "outputId": "a927822f-566a-4860-95e0-b6e173f3b754"
      },
      "source": [
        "nltk.download('stopwords')\n",
        "def minusStopWords(words):\n",
        "  from nltk.corpus import stopwords\n",
        "  stop_words = set(stopwords.words('english')) \n",
        "\n",
        "  words = [w for w in words if not w in stop_words]\n",
        "  len(words)\n",
        "  return words"
      ],
      "execution_count": null,
      "outputs": [
        {
          "output_type": "stream",
          "name": "stdout",
          "text": [
            "[nltk_data] Downloading package stopwords to /root/nltk_data...\n",
            "[nltk_data]   Unzipping corpora/stopwords.zip.\n"
          ]
        }
      ]
    },
    {
      "cell_type": "code",
      "metadata": {
        "id": "JTqEVmxVV_uV",
        "colab": {
          "base_uri": "https://localhost:8080/"
        },
        "outputId": "ad2f0d03-6f97-42ca-9f00-2f7c0c85cf8e"
      },
      "source": [
        "for author in content_dict.keys():\n",
        "    temp = content_dict[author]\n",
        "    temp = spaceTokenized(temp)\n",
        "    temp = minusStopWords(temp)\n",
        "    \n",
        "    bigrams[author] = get_bigrams_from_text(temp)\n",
        "    trigrams[author] = get_trigrams_from_text(temp)\n",
        "    \n",
        "    # print('----------------------')\n",
        "    # print(author)\n",
        "    # print('----------------------')\n",
        "    \n",
        "    for i in bigrams[author][:30]:\n",
        "        # print(i)\n",
        "        bigram_features[author].append(i)\n",
        "\n",
        "    print('')\n",
        "    \n",
        "    for i in trigrams[author][:10]:\n",
        "        # print(i)\n",
        "        trigram_features[author].append(i)\n",
        "\n",
        "    print('')"
      ],
      "execution_count": null,
      "outputs": [
        {
          "output_type": "stream",
          "name": "stdout",
          "text": [
            "\n",
            "\n",
            "\n",
            "\n",
            "\n",
            "\n",
            "\n",
            "\n",
            "\n",
            "\n"
          ]
        }
      ]
    },
    {
      "cell_type": "code",
      "metadata": {
        "colab": {
          "base_uri": "https://localhost:8080/"
        },
        "id": "bmdvz_O8ZBv9",
        "outputId": "7329bfc5-7b8a-425a-aed3-53efd06f0741"
      },
      "source": [
        "author = 'Jane Austen'\n",
        "for i in range(len(bigram_features[author])):\n",
        "   print(bigram_features[author][i],' ', i) # 29, 27, 26, 24, 23, 21, 20, 19, 18, 17, 16, 15, 14, 13, 12, 11, 10, 8, 7, 5, 3, 2, 1, 0"
      ],
      "execution_count": null,
      "outputs": [
        {
          "output_type": "stream",
          "name": "stdout",
          "text": [
            "[('miss', 'crawford'), 312]   0\n",
            "[('mr', 'darcy'), 311]   1\n",
            "[('sir', 'thomas'), 297]   2\n",
            "[('mr', 'collins'), 263]   3\n",
            "[('young', 'man'), 260]   4\n",
            "[('mrs', 'bennet'), 257]   5\n",
            "[('great', 'deal'), 235]   6\n",
            "[('captain', 'wentworth'), 205]   7\n",
            "[('mr', 'knightley'), 201]   8\n",
            "[('dare', 'say'), 190]   9\n",
            "[('mrs', 'jennings'), 186]   10\n",
            "[('mr', 'elliot'), 174]   11\n",
            "[('mrs', 'weston'), 171]   12\n",
            "[('mr', 'elton'), 165]   13\n",
            "[('mr', 'crawford'), 163]   14\n",
            "[('lady', 'catherine'), 162]   15\n",
            "[('mrs', 'norris'), 159]   16\n",
            "[('miss', 'bennet'), 157]   17\n",
            "[('sir', 'walter'), 148]   18\n",
            "[('mr', 'bingley'), 148]   19\n",
            "[('lady', 'russell'), 147]   20\n",
            "[('mr', 'bennet'), 143]   21\n",
            "[('every', 'thing'), 137]   22\n",
            "[('miss', 'bingley'), 126]   23\n",
            "[('mrs', 'grant'), 123]   24\n",
            "[('mr', 'mrs'), 119]   25\n",
            "[('lady', 'bertram'), 118]   26\n",
            "[('colonel', 'fitzwilliam'), 118]   27\n",
            "[('drawing', 'room'), 112]   28\n",
            "[('mr', 'rushworth'), 110]   29\n"
          ]
        }
      ]
    },
    {
      "cell_type": "code",
      "metadata": {
        "id": "AebX3zCFeEXd",
        "colab": {
          "base_uri": "https://localhost:8080/"
        },
        "outputId": "daef129e-53d4-46d5-8639-f8b675610a70"
      },
      "source": [
        "for i in range(len(trigram_features[author])):\n",
        "    print(trigram_features[author][i],' ', i) # 9, 6, 4, 3, 1, 0"
      ],
      "execution_count": null,
      "outputs": [
        {
          "output_type": "stream",
          "name": "stdout",
          "text": [
            "[('godmersham', 'park', 'faversham'), 29]   0\n",
            "[('sir', 'walter', 'elliot'), 27]   1\n",
            "[('mr', 'john', 'knightley'), 26]   2\n",
            "[('mr', 'frank', 'churchill'), 24]   3\n",
            "[('mr', 'de', 'courcy'), 23]   4\n",
            "[('park', 'faversham', 'kent'), 23]   5\n",
            "[('affectionately', 'j', 'austen'), 22]   6\n",
            "[('said', 'mr', 'knightley'), 22]   7\n",
            "[('said', 'miss', 'crawford'), 22]   8\n",
            "[('lady', 'catherine', 'de'), 21]   9\n"
          ]
        }
      ]
    },
    {
      "cell_type": "code",
      "metadata": {
        "id": "t3vNvqO4s9po"
      },
      "source": [
        "#Features at this indices to be deleted as the contain character reference.\n",
        "index_to_delete_bigram = {'Arthur Conan Doyle' : [18, 9, 7, 6, 3],\n",
        "                          'Charles Dickens' : [29, 25, 24, 15, 14, 11, 10, 7, 1],\n",
        "                          'H. G. Wells' : [19, 16, 15, 12, 11, 10, 4, 2, 1],\n",
        "                          'Jonathan Swift' : [25, 17, 12, 10, 9, 8, 6, 2, 1, 0],\n",
        "                          'Jane Austen' : [29, 27, 26, 24, 23, 21, 20, 19, 18, 17, 16, 15, 14, 13, 12, 11, 10, 8, 7, 5, 3, 2, 1, 0]\n",
        "                          }\n",
        "\n",
        "index_to_delete_trigram = {'Arthur Conan Doyle' : [7, 4, 2, 0],\n",
        "                          'Charles Dickens' : [9, 8, 7, 6, 4, 3, 0],\n",
        "                          'H. G. Wells' : [9, 6, 5, 3, 2, 1, 0],\n",
        "                          'Jonathan Swift' : [9, 6, 4, 3, 1, 0],\n",
        "                          'Jane Austen' : [9, 8, 7, 6, 5, 4, 3, 2, 1]\n",
        "                          }"
      ],
      "execution_count": null,
      "outputs": []
    },
    {
      "cell_type": "code",
      "metadata": {
        "id": "UP-XyWI7gr3O"
      },
      "source": [
        "#Features at this indices to be deleted as the contain character reference.\n",
        "# index_to_delete_bigram = {'Arthur Conan Doyle' : [26, 13, 12, 8, 6, 4],\n",
        "#                           'Charles Dickens' : [22, 21, 16, 13, 12, 7, 5, 1],\n",
        "#                           'H. G. Wells' : [21, 19, 17, 16, 12, 4, 3, 1],\n",
        "#                           'Jonathan Swift' : [19, 18, 16, 14, 6, 4, 2, 1],\n",
        "#                           'Jane Austen' : [27, 26, 25, 24, 23, 22, 21, 20, 19, 18, 17, 16, 15, 14, 13, 12, 10, 8, 7, 5, 3, 2, 1, 0]\n",
        "#                           }\n",
        "\n",
        "# index_to_delete_trigram = {'Arthur Conan Doyle' : [9, 5, 1, 0],\n",
        "#                           'Charles Dickens' : [7, 6, 5, 4, 3, 0],\n",
        "#                           'H. G. Wells' : [8, 6, 5, 3, 2, 1, 0],\n",
        "#                           'Jonathan Swift' : [9, 8, 5, 2],\n",
        "#                           'Jane Austen' : [9, 8, 7, 6, 5, 4, 3, 2, 1]\n",
        "#                           }"
      ],
      "execution_count": null,
      "outputs": []
    },
    {
      "cell_type": "code",
      "metadata": {
        "id": "gMpMIlAlfIxe"
      },
      "source": [
        "#Delete Bigram features with character names.\n",
        "for author in bigram_features.keys():\n",
        "    for i in index_to_delete_bigram[author]:\n",
        "      del bigram_features[author][i]\n",
        "\n",
        "    for i in index_to_delete_trigram[author]:\n",
        "      del trigram_features[author][i]"
      ],
      "execution_count": null,
      "outputs": []
    },
    {
      "cell_type": "code",
      "metadata": {
        "id": "u3FaQtdNsYs_"
      },
      "source": [
        "#For saving and loading dictionaries\n",
        "# with open('bigram_features.pickle', 'wb') as handle:\n",
        "#     pickle.dump(bigram_features, handle, protocol=pickle.HIGHEST_PROTOCOL)\n",
        "# with open('trigram_features.pickle', 'wb') as handle:\n",
        "#     pickle.dump(trigram_features, handle, protocol=pickle.HIGHEST_PROTOCOL)\n",
        "\n",
        "# with open('bigram_features.pickle', 'rb') as handle:\n",
        "#     bigram_features = pickle.load(handle)"
      ],
      "execution_count": null,
      "outputs": []
    },
    {
      "cell_type": "code",
      "metadata": {
        "id": "IaP_Vq95xcdU"
      },
      "source": [
        "#List --> Dictionary.\n",
        "bigram_features_dict = {'Arthur Conan Doyle' : {},\n",
        "                        'Charles Dickens' : {},\n",
        "                        'H. G. Wells' : {},\n",
        "                        'Jonathan Swift' : {},\n",
        "                        'Jane Austen' : {}\n",
        "                        }\n",
        "trigram_features_dict = copy.deepcopy(bigram_features_dict)"
      ],
      "execution_count": null,
      "outputs": []
    },
    {
      "cell_type": "code",
      "metadata": {
        "id": "yBGNPUezyLUd"
      },
      "source": [
        "def ngram_list_to_dict(input_features, input_features_dict):\n",
        "    for author in input_features.keys():\n",
        "        for i in input_features[author]:\n",
        "            input_features_dict[author][i[0]] = i[1]\n",
        "    return input_features_dict"
      ],
      "execution_count": null,
      "outputs": []
    },
    {
      "cell_type": "code",
      "metadata": {
        "id": "iWzxKkCiz8ex"
      },
      "source": [
        "def block_ngram_list_to_dict(input_features):\n",
        "    ret_dict = {}\n",
        "    for i in input_features:\n",
        "        # print(input_features)\n",
        "        ret_dict[i[0]] = i[1]\n",
        "    return ret_dict"
      ],
      "execution_count": null,
      "outputs": []
    },
    {
      "cell_type": "code",
      "metadata": {
        "id": "I6y0yAZ2zB14"
      },
      "source": [
        "bigram_features_dict = ngram_list_to_dict(bigram_features, bigram_features_dict)\n",
        "trigram_features_dict = ngram_list_to_dict(trigram_features, trigram_features_dict)"
      ],
      "execution_count": null,
      "outputs": []
    },
    {
      "cell_type": "code",
      "metadata": {
        "colab": {
          "base_uri": "https://localhost:8080/"
        },
        "id": "1LpLnEfwzZ-b",
        "outputId": "c57d984b-8f9a-4082-f8da-619244a6f89f"
      },
      "source": [
        "bigram_features_dict['Jane Austen'][('every', 'thing')]"
      ],
      "execution_count": null,
      "outputs": [
        {
          "output_type": "execute_result",
          "data": {
            "text/plain": [
              "137"
            ]
          },
          "metadata": {},
          "execution_count": 35
        }
      ]
    },
    {
      "cell_type": "code",
      "metadata": {
        "id": "CX5xUE5iwBEi"
      },
      "source": [
        "def calculate_bigram_score(given_bigrams, author_bigram_dicts):\n",
        "    temp_dict = block_ngram_list_to_dict(given_bigrams)\n",
        "    score = 0\n",
        "    for i in author_bigram_dicts.keys():\n",
        "        if i in temp_dict.keys():\n",
        "            score += author_bigram_dicts[i] * temp_dict[i]\n",
        "    return score"
      ],
      "execution_count": null,
      "outputs": []
    },
    {
      "cell_type": "code",
      "metadata": {
        "id": "kxthQnXd8opm"
      },
      "source": [
        "def calculate_bigram_count(given_bigrams, author_bigram_dicts):\n",
        "    temp_dict = block_ngram_list_to_dict(given_bigrams)\n",
        "    score = 0\n",
        "    for i in author_bigram_dicts.keys():\n",
        "        if i in temp_dict.keys():\n",
        "            score += temp_dict[i]\n",
        "    return score"
      ],
      "execution_count": null,
      "outputs": []
    },
    {
      "cell_type": "code",
      "metadata": {
        "id": "wX3Ry8R35CqY"
      },
      "source": [
        "trial = copy.deepcopy(X_train)"
      ],
      "execution_count": null,
      "outputs": []
    },
    {
      "cell_type": "code",
      "metadata": {
        "id": "D5c4LG6Turdq"
      },
      "source": [
        "ACD_bigram_score = []\n",
        "CD_bigram_score = []\n",
        "HGW_bigram_score = []\n",
        "JA_bigram_score = []\n",
        "JS_bigram_score = []\n",
        "\n",
        "for myindex in trial.index:\n",
        "    temp = trial['Block'][myindex]\n",
        "    temp = spaceTokenized(temp)\n",
        "    temp = minusStopWords(temp)\n",
        "\n",
        "    bigrams_found = get_bigrams_from_text(temp)\n",
        "\n",
        "    ACD_score = calculate_bigram_score(bigrams_found, bigram_features_dict['Arthur Conan Doyle'])\n",
        "    CD_score = calculate_bigram_score(bigrams_found, bigram_features_dict['Charles Dickens'])\n",
        "    HGW_score = calculate_bigram_score(bigrams_found, bigram_features_dict['H. G. Wells'])\n",
        "    JA_score = calculate_bigram_score(bigrams_found, bigram_features_dict['Jane Austen'])\n",
        "    JS_score = calculate_bigram_score(bigrams_found, bigram_features_dict['Jonathan Swift'])\n",
        "\n",
        "    ACD_bigram_score.append(ACD_score)\n",
        "    CD_bigram_score.append(CD_score)\n",
        "    HGW_bigram_score.append(HGW_score)\n",
        "    JA_bigram_score.append(JA_score)\n",
        "    JS_bigram_score.append(JS_score)\n",
        "\n",
        "trial['ACD_bigram_score'] = ACD_bigram_score\n",
        "trial['CD_bigram_score'] = CD_bigram_score\n",
        "trial['HGW_bigram_score'] = HGW_bigram_score\n",
        "trial['JA_bigram_score'] = JA_bigram_score\n",
        "trial['JS_bigram_score'] = JS_bigram_score"
      ],
      "execution_count": null,
      "outputs": []
    },
    {
      "cell_type": "code",
      "metadata": {
        "id": "8uvoCObx77pJ"
      },
      "source": [
        "ACD_trigram_score = []\n",
        "CD_trigram_score = []\n",
        "HGW_trigram_score = []\n",
        "JA_trigram_score = []\n",
        "JS_trigram_score = []\n",
        "\n",
        "for myindex in trial.index:\n",
        "    temp = trial['Block'][myindex]\n",
        "    temp = spaceTokenized(temp)\n",
        "    temp = minusStopWords(temp)\n",
        "\n",
        "    trigrams_found = get_trigrams_from_text(temp)\n",
        "\n",
        "    ACD_score = calculate_bigram_score(trigrams_found, trigram_features_dict['Arthur Conan Doyle'])\n",
        "    CD_score = calculate_bigram_score(trigrams_found, trigram_features_dict['Charles Dickens'])\n",
        "    HGW_score = calculate_bigram_score(trigrams_found, trigram_features_dict['H. G. Wells'])\n",
        "    JA_score = calculate_bigram_score(trigrams_found, trigram_features_dict['Jane Austen'])\n",
        "    JS_score = calculate_bigram_score(trigrams_found, trigram_features_dict['Jonathan Swift'])\n",
        "\n",
        "    ACD_trigram_score.append(ACD_score)\n",
        "    CD_trigram_score.append(CD_score)\n",
        "    HGW_trigram_score.append(HGW_score)\n",
        "    JA_trigram_score.append(JA_score)\n",
        "    JS_trigram_score.append(JS_score)\n",
        "\n",
        "trial['ACD_trigram_score'] = ACD_trigram_score\n",
        "trial['CD_trigram_score'] = CD_trigram_score\n",
        "trial['HGW_trigram_score'] = HGW_trigram_score\n",
        "trial['JA_trigram_score'] = JA_trigram_score\n",
        "trial['JS_trigram_score'] = JS_trigram_score"
      ],
      "execution_count": null,
      "outputs": []
    },
    {
      "cell_type": "code",
      "metadata": {
        "id": "QSVMa-fk9G4e"
      },
      "source": [
        "ACD_bigram_count = []\n",
        "CD_bigram_count = []\n",
        "HGW_bigram_count = []\n",
        "JA_bigram_count = []\n",
        "JS_bigram_count = []\n",
        "\n",
        "for myindex in trial.index:\n",
        "    temp = trial['Block'][myindex]\n",
        "    temp = spaceTokenized(temp)\n",
        "    temp = minusStopWords(temp)\n",
        "\n",
        "    bigrams_found = get_bigrams_from_text(temp)\n",
        "\n",
        "    ACD_count = calculate_bigram_count(bigrams_found, bigram_features_dict['Arthur Conan Doyle'])\n",
        "    CD_count = calculate_bigram_count(bigrams_found, bigram_features_dict['Charles Dickens'])\n",
        "    HGW_count = calculate_bigram_count(bigrams_found, bigram_features_dict['H. G. Wells'])\n",
        "    JA_count = calculate_bigram_count(bigrams_found, bigram_features_dict['Jane Austen'])\n",
        "    JS_count = calculate_bigram_count(bigrams_found, bigram_features_dict['Jonathan Swift'])\n",
        "\n",
        "    ACD_bigram_count.append(ACD_count)\n",
        "    CD_bigram_count.append(CD_count)\n",
        "    HGW_bigram_count.append(HGW_count)\n",
        "    JA_bigram_count.append(JA_count)\n",
        "    JS_bigram_count.append(JS_count)\n",
        "\n",
        "trial['ACD_bigram_count'] = ACD_bigram_count\n",
        "trial['CD_bigram_count'] = CD_bigram_count\n",
        "trial['HGW_bigram_count'] = HGW_bigram_count\n",
        "trial['JA_bigram_count'] = JA_bigram_count\n",
        "trial['JS_bigram_count'] = JS_bigram_count"
      ],
      "execution_count": null,
      "outputs": []
    },
    {
      "cell_type": "code",
      "metadata": {
        "colab": {
          "base_uri": "https://localhost:8080/",
          "height": 591
        },
        "id": "x8Ns7XIZowL5",
        "outputId": "56c212c7-c74f-46ed-9573-6f5f355452bd"
      },
      "source": [
        "trial.head()"
      ],
      "execution_count": null,
      "outputs": [
        {
          "output_type": "execute_result",
          "data": {
            "text/html": [
              "<div>\n",
              "<style scoped>\n",
              "    .dataframe tbody tr th:only-of-type {\n",
              "        vertical-align: middle;\n",
              "    }\n",
              "\n",
              "    .dataframe tbody tr th {\n",
              "        vertical-align: top;\n",
              "    }\n",
              "\n",
              "    .dataframe thead th {\n",
              "        text-align: right;\n",
              "    }\n",
              "</style>\n",
              "<table border=\"1\" class=\"dataframe\">\n",
              "  <thead>\n",
              "    <tr style=\"text-align: right;\">\n",
              "      <th></th>\n",
              "      <th>Block</th>\n",
              "      <th>Words per sentence</th>\n",
              "      <th>Commas per sentence</th>\n",
              "      <th>Excalimation per sentence</th>\n",
              "      <th>Questions per sentence</th>\n",
              "      <th>Salutation per sentence</th>\n",
              "      <th>He per sentence</th>\n",
              "      <th>She per sentence</th>\n",
              "      <th>ACD_bigram_score</th>\n",
              "      <th>CD_bigram_score</th>\n",
              "      <th>HGW_bigram_score</th>\n",
              "      <th>JA_bigram_score</th>\n",
              "      <th>JS_bigram_score</th>\n",
              "      <th>ACD_trigram_score</th>\n",
              "      <th>CD_trigram_score</th>\n",
              "      <th>HGW_trigram_score</th>\n",
              "      <th>JA_trigram_score</th>\n",
              "      <th>JS_trigram_score</th>\n",
              "      <th>ACD_bigram_count</th>\n",
              "      <th>CD_bigram_count</th>\n",
              "      <th>HGW_bigram_count</th>\n",
              "      <th>JA_bigram_count</th>\n",
              "      <th>JS_bigram_count</th>\n",
              "    </tr>\n",
              "  </thead>\n",
              "  <tbody>\n",
              "    <tr>\n",
              "      <th>40</th>\n",
              "      <td>['i found on examination that he had had the l...</td>\n",
              "      <td>20.5050</td>\n",
              "      <td>1.4590</td>\n",
              "      <td>0.0490</td>\n",
              "      <td>0.0745</td>\n",
              "      <td>0.0550</td>\n",
              "      <td>0.0985</td>\n",
              "      <td>2.5790</td>\n",
              "      <td>39969</td>\n",
              "      <td>36609</td>\n",
              "      <td>28133</td>\n",
              "      <td>685</td>\n",
              "      <td>1263</td>\n",
              "      <td>0</td>\n",
              "      <td>0</td>\n",
              "      <td>0</td>\n",
              "      <td>0</td>\n",
              "      <td>0</td>\n",
              "      <td>87</td>\n",
              "      <td>34</td>\n",
              "      <td>73</td>\n",
              "      <td>3</td>\n",
              "      <td>13</td>\n",
              "    </tr>\n",
              "    <tr>\n",
              "      <th>516</th>\n",
              "      <td>['illustration one gentleman was observed sudd...</td>\n",
              "      <td>9.4445</td>\n",
              "      <td>0.9650</td>\n",
              "      <td>0.1505</td>\n",
              "      <td>0.0275</td>\n",
              "      <td>0.1515</td>\n",
              "      <td>0.0580</td>\n",
              "      <td>1.1055</td>\n",
              "      <td>14276</td>\n",
              "      <td>245780</td>\n",
              "      <td>48591</td>\n",
              "      <td>2687</td>\n",
              "      <td>390</td>\n",
              "      <td>0</td>\n",
              "      <td>1823</td>\n",
              "      <td>0</td>\n",
              "      <td>0</td>\n",
              "      <td>0</td>\n",
              "      <td>43</td>\n",
              "      <td>89</td>\n",
              "      <td>65</td>\n",
              "      <td>11</td>\n",
              "      <td>3</td>\n",
              "    </tr>\n",
              "    <tr>\n",
              "      <th>134</th>\n",
              "      <td>['catherine was disturbed and out of spirits b...</td>\n",
              "      <td>20.1015</td>\n",
              "      <td>1.6340</td>\n",
              "      <td>0.1120</td>\n",
              "      <td>0.1095</td>\n",
              "      <td>0.1605</td>\n",
              "      <td>0.3605</td>\n",
              "      <td>2.7750</td>\n",
              "      <td>8068</td>\n",
              "      <td>23538</td>\n",
              "      <td>9881</td>\n",
              "      <td>7704</td>\n",
              "      <td>1363</td>\n",
              "      <td>0</td>\n",
              "      <td>0</td>\n",
              "      <td>0</td>\n",
              "      <td>0</td>\n",
              "      <td>0</td>\n",
              "      <td>24</td>\n",
              "      <td>22</td>\n",
              "      <td>22</td>\n",
              "      <td>45</td>\n",
              "      <td>13</td>\n",
              "    </tr>\n",
              "    <tr>\n",
              "      <th>29</th>\n",
              "      <td>['the first and second i let pass, for i hardl...</td>\n",
              "      <td>19.2810</td>\n",
              "      <td>1.6390</td>\n",
              "      <td>0.0955</td>\n",
              "      <td>0.0905</td>\n",
              "      <td>0.0685</td>\n",
              "      <td>0.0550</td>\n",
              "      <td>2.3240</td>\n",
              "      <td>29126</td>\n",
              "      <td>50850</td>\n",
              "      <td>15606</td>\n",
              "      <td>1560</td>\n",
              "      <td>1006</td>\n",
              "      <td>0</td>\n",
              "      <td>214</td>\n",
              "      <td>0</td>\n",
              "      <td>0</td>\n",
              "      <td>69</td>\n",
              "      <td>80</td>\n",
              "      <td>47</td>\n",
              "      <td>38</td>\n",
              "      <td>6</td>\n",
              "      <td>8</td>\n",
              "    </tr>\n",
              "    <tr>\n",
              "      <th>91</th>\n",
              "      <td>['i asked.', 'enderby nodded.', 'and you have ...</td>\n",
              "      <td>19.9280</td>\n",
              "      <td>1.3315</td>\n",
              "      <td>0.0345</td>\n",
              "      <td>0.0765</td>\n",
              "      <td>0.1030</td>\n",
              "      <td>0.1620</td>\n",
              "      <td>2.1460</td>\n",
              "      <td>16252</td>\n",
              "      <td>107747</td>\n",
              "      <td>35663</td>\n",
              "      <td>2824</td>\n",
              "      <td>516</td>\n",
              "      <td>0</td>\n",
              "      <td>0</td>\n",
              "      <td>0</td>\n",
              "      <td>0</td>\n",
              "      <td>0</td>\n",
              "      <td>46</td>\n",
              "      <td>57</td>\n",
              "      <td>69</td>\n",
              "      <td>12</td>\n",
              "      <td>5</td>\n",
              "    </tr>\n",
              "  </tbody>\n",
              "</table>\n",
              "</div>"
            ],
            "text/plain": [
              "                                                 Block  ...  JS_bigram_count\n",
              "40   ['i found on examination that he had had the l...  ...               13\n",
              "516  ['illustration one gentleman was observed sudd...  ...                3\n",
              "134  ['catherine was disturbed and out of spirits b...  ...               13\n",
              "29   ['the first and second i let pass, for i hardl...  ...                8\n",
              "91   ['i asked.', 'enderby nodded.', 'and you have ...  ...                5\n",
              "\n",
              "[5 rows x 23 columns]"
            ]
          },
          "metadata": {},
          "execution_count": 51
        }
      ]
    },
    {
      "cell_type": "code",
      "metadata": {
        "id": "WF7j9AJO597q"
      },
      "source": [
        "trial.to_csv('X_train1.csv', index = False)"
      ],
      "execution_count": null,
      "outputs": []
    },
    {
      "cell_type": "code",
      "metadata": {
        "id": "Soy2QFtd-jUL"
      },
      "source": [
        "# !mv '/content/X_test.csv' '/content/drive/MyDrive/Colab Dataset Zoo/NLP Stuff/Final Final Model'\n",
        "# !mv '/content/y_test.csv' '/content/drive/MyDrive/Colab Dataset Zoo/NLP Stuff/Final Final Model'\n",
        "!mv '/content/X_train1.csv' '/content/drive/MyDrive/Colab Dataset Zoo/NLP Stuff/Final Final Model'\n",
        "# !mv '/content/y_train.csv' '/content/drive/MyDrive/Colab Dataset Zoo/NLP Stuff/Final Final Model'"
      ],
      "execution_count": null,
      "outputs": []
    },
    {
      "cell_type": "code",
      "metadata": {
        "id": "1p3BtwlxyWLL"
      },
      "source": [
        "trial = copy.deepcopy(X_test)"
      ],
      "execution_count": null,
      "outputs": []
    },
    {
      "cell_type": "code",
      "metadata": {
        "id": "CbWNAl31yWLL"
      },
      "source": [
        "ACD_bigram_score = []\n",
        "CD_bigram_score = []\n",
        "HGW_bigram_score = []\n",
        "JA_bigram_score = []\n",
        "JS_bigram_score = []\n",
        "\n",
        "for myindex in trial.index:\n",
        "    temp = trial['Block'][myindex]\n",
        "    temp = spaceTokenized(temp)\n",
        "    temp = minusStopWords(temp)\n",
        "\n",
        "    bigrams_found = get_bigrams_from_text(temp)\n",
        "\n",
        "    ACD_score = calculate_bigram_score(bigrams_found, bigram_features_dict['Arthur Conan Doyle'])\n",
        "    CD_score = calculate_bigram_score(bigrams_found, bigram_features_dict['Charles Dickens'])\n",
        "    HGW_score = calculate_bigram_score(bigrams_found, bigram_features_dict['H. G. Wells'])\n",
        "    JA_score = calculate_bigram_score(bigrams_found, bigram_features_dict['Jane Austen'])\n",
        "    JS_score = calculate_bigram_score(bigrams_found, bigram_features_dict['Jonathan Swift'])\n",
        "\n",
        "    ACD_bigram_score.append(ACD_score)\n",
        "    CD_bigram_score.append(CD_score)\n",
        "    HGW_bigram_score.append(HGW_score)\n",
        "    JA_bigram_score.append(JA_score)\n",
        "    JS_bigram_score.append(JS_score)\n",
        "\n",
        "trial['ACD_bigram_score'] = ACD_bigram_score\n",
        "trial['CD_bigram_score'] = CD_bigram_score\n",
        "trial['HGW_bigram_score'] = HGW_bigram_score\n",
        "trial['JA_bigram_score'] = JA_bigram_score\n",
        "trial['JS_bigram_score'] = JS_bigram_score"
      ],
      "execution_count": null,
      "outputs": []
    },
    {
      "cell_type": "code",
      "metadata": {
        "id": "6Cmyue35yWLM"
      },
      "source": [
        "ACD_trigram_score = []\n",
        "CD_trigram_score = []\n",
        "HGW_trigram_score = []\n",
        "JA_trigram_score = []\n",
        "JS_trigram_score = []\n",
        "\n",
        "for myindex in trial.index:\n",
        "    temp = trial['Block'][myindex]\n",
        "    temp = spaceTokenized(temp)\n",
        "    temp = minusStopWords(temp)\n",
        "\n",
        "    trigrams_found = get_trigrams_from_text(temp)\n",
        "\n",
        "    ACD_score = calculate_bigram_score(trigrams_found, trigram_features_dict['Arthur Conan Doyle'])\n",
        "    CD_score = calculate_bigram_score(trigrams_found, trigram_features_dict['Charles Dickens'])\n",
        "    HGW_score = calculate_bigram_score(trigrams_found, trigram_features_dict['H. G. Wells'])\n",
        "    JA_score = calculate_bigram_score(trigrams_found, trigram_features_dict['Jane Austen'])\n",
        "    JS_score = calculate_bigram_score(trigrams_found, trigram_features_dict['Jonathan Swift'])\n",
        "\n",
        "    ACD_trigram_score.append(ACD_score)\n",
        "    CD_trigram_score.append(CD_score)\n",
        "    HGW_trigram_score.append(HGW_score)\n",
        "    JA_trigram_score.append(JA_score)\n",
        "    JS_trigram_score.append(JS_score)\n",
        "\n",
        "trial['ACD_trigram_score'] = ACD_trigram_score\n",
        "trial['CD_trigram_score'] = CD_trigram_score\n",
        "trial['HGW_trigram_score'] = HGW_trigram_score\n",
        "trial['JA_trigram_score'] = JA_trigram_score\n",
        "trial['JS_trigram_score'] = JS_trigram_score"
      ],
      "execution_count": null,
      "outputs": []
    },
    {
      "cell_type": "code",
      "metadata": {
        "id": "Fxsghm0HyWLO"
      },
      "source": [
        "ACD_bigram_count = []\n",
        "CD_bigram_count = []\n",
        "HGW_bigram_count = []\n",
        "JA_bigram_count = []\n",
        "JS_bigram_count = []\n",
        "\n",
        "for myindex in trial.index:\n",
        "    temp = trial['Block'][myindex]\n",
        "    temp = spaceTokenized(temp)\n",
        "    temp = minusStopWords(temp)\n",
        "\n",
        "    bigrams_found = get_bigrams_from_text(temp)\n",
        "\n",
        "    ACD_count = calculate_bigram_count(bigrams_found, bigram_features_dict['Arthur Conan Doyle'])\n",
        "    CD_count = calculate_bigram_count(bigrams_found, bigram_features_dict['Charles Dickens'])\n",
        "    HGW_count = calculate_bigram_count(bigrams_found, bigram_features_dict['H. G. Wells'])\n",
        "    JA_count = calculate_bigram_count(bigrams_found, bigram_features_dict['Jane Austen'])\n",
        "    JS_count = calculate_bigram_count(bigrams_found, bigram_features_dict['Jonathan Swift'])\n",
        "\n",
        "    ACD_bigram_count.append(ACD_count)\n",
        "    CD_bigram_count.append(CD_count)\n",
        "    HGW_bigram_count.append(HGW_count)\n",
        "    JA_bigram_count.append(JA_count)\n",
        "    JS_bigram_count.append(JS_count)\n",
        "\n",
        "trial['ACD_bigram_count'] = ACD_bigram_count\n",
        "trial['CD_bigram_count'] = CD_bigram_count\n",
        "trial['HGW_bigram_count'] = HGW_bigram_count\n",
        "trial['JA_bigram_count'] = JA_bigram_count\n",
        "trial['JS_bigram_count'] = JS_bigram_count"
      ],
      "execution_count": null,
      "outputs": []
    },
    {
      "cell_type": "code",
      "metadata": {
        "colab": {
          "base_uri": "https://localhost:8080/",
          "height": 591
        },
        "id": "Rmq9-U_SyWLP",
        "outputId": "56c212c7-c74f-46ed-9573-6f5f355452bd"
      },
      "source": [
        "trial.head()"
      ],
      "execution_count": null,
      "outputs": [
        {
          "output_type": "execute_result",
          "data": {
            "text/html": [
              "<div>\n",
              "<style scoped>\n",
              "    .dataframe tbody tr th:only-of-type {\n",
              "        vertical-align: middle;\n",
              "    }\n",
              "\n",
              "    .dataframe tbody tr th {\n",
              "        vertical-align: top;\n",
              "    }\n",
              "\n",
              "    .dataframe thead th {\n",
              "        text-align: right;\n",
              "    }\n",
              "</style>\n",
              "<table border=\"1\" class=\"dataframe\">\n",
              "  <thead>\n",
              "    <tr style=\"text-align: right;\">\n",
              "      <th></th>\n",
              "      <th>Block</th>\n",
              "      <th>Words per sentence</th>\n",
              "      <th>Commas per sentence</th>\n",
              "      <th>Excalimation per sentence</th>\n",
              "      <th>Questions per sentence</th>\n",
              "      <th>Salutation per sentence</th>\n",
              "      <th>He per sentence</th>\n",
              "      <th>She per sentence</th>\n",
              "      <th>ACD_bigram_score</th>\n",
              "      <th>CD_bigram_score</th>\n",
              "      <th>HGW_bigram_score</th>\n",
              "      <th>JA_bigram_score</th>\n",
              "      <th>JS_bigram_score</th>\n",
              "      <th>ACD_trigram_score</th>\n",
              "      <th>CD_trigram_score</th>\n",
              "      <th>HGW_trigram_score</th>\n",
              "      <th>JA_trigram_score</th>\n",
              "      <th>JS_trigram_score</th>\n",
              "      <th>ACD_bigram_count</th>\n",
              "      <th>CD_bigram_count</th>\n",
              "      <th>HGW_bigram_count</th>\n",
              "      <th>JA_bigram_count</th>\n",
              "      <th>JS_bigram_count</th>\n",
              "    </tr>\n",
              "  </thead>\n",
              "  <tbody>\n",
              "    <tr>\n",
              "      <th>40</th>\n",
              "      <td>['i found on examination that he had had the l...</td>\n",
              "      <td>20.5050</td>\n",
              "      <td>1.4590</td>\n",
              "      <td>0.0490</td>\n",
              "      <td>0.0745</td>\n",
              "      <td>0.0550</td>\n",
              "      <td>0.0985</td>\n",
              "      <td>2.5790</td>\n",
              "      <td>39969</td>\n",
              "      <td>36609</td>\n",
              "      <td>28133</td>\n",
              "      <td>685</td>\n",
              "      <td>1263</td>\n",
              "      <td>0</td>\n",
              "      <td>0</td>\n",
              "      <td>0</td>\n",
              "      <td>0</td>\n",
              "      <td>0</td>\n",
              "      <td>87</td>\n",
              "      <td>34</td>\n",
              "      <td>73</td>\n",
              "      <td>3</td>\n",
              "      <td>13</td>\n",
              "    </tr>\n",
              "    <tr>\n",
              "      <th>516</th>\n",
              "      <td>['illustration one gentleman was observed sudd...</td>\n",
              "      <td>9.4445</td>\n",
              "      <td>0.9650</td>\n",
              "      <td>0.1505</td>\n",
              "      <td>0.0275</td>\n",
              "      <td>0.1515</td>\n",
              "      <td>0.0580</td>\n",
              "      <td>1.1055</td>\n",
              "      <td>14276</td>\n",
              "      <td>245780</td>\n",
              "      <td>48591</td>\n",
              "      <td>2687</td>\n",
              "      <td>390</td>\n",
              "      <td>0</td>\n",
              "      <td>1823</td>\n",
              "      <td>0</td>\n",
              "      <td>0</td>\n",
              "      <td>0</td>\n",
              "      <td>43</td>\n",
              "      <td>89</td>\n",
              "      <td>65</td>\n",
              "      <td>11</td>\n",
              "      <td>3</td>\n",
              "    </tr>\n",
              "    <tr>\n",
              "      <th>134</th>\n",
              "      <td>['catherine was disturbed and out of spirits b...</td>\n",
              "      <td>20.1015</td>\n",
              "      <td>1.6340</td>\n",
              "      <td>0.1120</td>\n",
              "      <td>0.1095</td>\n",
              "      <td>0.1605</td>\n",
              "      <td>0.3605</td>\n",
              "      <td>2.7750</td>\n",
              "      <td>8068</td>\n",
              "      <td>23538</td>\n",
              "      <td>9881</td>\n",
              "      <td>7704</td>\n",
              "      <td>1363</td>\n",
              "      <td>0</td>\n",
              "      <td>0</td>\n",
              "      <td>0</td>\n",
              "      <td>0</td>\n",
              "      <td>0</td>\n",
              "      <td>24</td>\n",
              "      <td>22</td>\n",
              "      <td>22</td>\n",
              "      <td>45</td>\n",
              "      <td>13</td>\n",
              "    </tr>\n",
              "    <tr>\n",
              "      <th>29</th>\n",
              "      <td>['the first and second i let pass, for i hardl...</td>\n",
              "      <td>19.2810</td>\n",
              "      <td>1.6390</td>\n",
              "      <td>0.0955</td>\n",
              "      <td>0.0905</td>\n",
              "      <td>0.0685</td>\n",
              "      <td>0.0550</td>\n",
              "      <td>2.3240</td>\n",
              "      <td>29126</td>\n",
              "      <td>50850</td>\n",
              "      <td>15606</td>\n",
              "      <td>1560</td>\n",
              "      <td>1006</td>\n",
              "      <td>0</td>\n",
              "      <td>214</td>\n",
              "      <td>0</td>\n",
              "      <td>0</td>\n",
              "      <td>69</td>\n",
              "      <td>80</td>\n",
              "      <td>47</td>\n",
              "      <td>38</td>\n",
              "      <td>6</td>\n",
              "      <td>8</td>\n",
              "    </tr>\n",
              "    <tr>\n",
              "      <th>91</th>\n",
              "      <td>['i asked.', 'enderby nodded.', 'and you have ...</td>\n",
              "      <td>19.9280</td>\n",
              "      <td>1.3315</td>\n",
              "      <td>0.0345</td>\n",
              "      <td>0.0765</td>\n",
              "      <td>0.1030</td>\n",
              "      <td>0.1620</td>\n",
              "      <td>2.1460</td>\n",
              "      <td>16252</td>\n",
              "      <td>107747</td>\n",
              "      <td>35663</td>\n",
              "      <td>2824</td>\n",
              "      <td>516</td>\n",
              "      <td>0</td>\n",
              "      <td>0</td>\n",
              "      <td>0</td>\n",
              "      <td>0</td>\n",
              "      <td>0</td>\n",
              "      <td>46</td>\n",
              "      <td>57</td>\n",
              "      <td>69</td>\n",
              "      <td>12</td>\n",
              "      <td>5</td>\n",
              "    </tr>\n",
              "  </tbody>\n",
              "</table>\n",
              "</div>"
            ],
            "text/plain": [
              "                                                 Block  ...  JS_bigram_count\n",
              "40   ['i found on examination that he had had the l...  ...               13\n",
              "516  ['illustration one gentleman was observed sudd...  ...                3\n",
              "134  ['catherine was disturbed and out of spirits b...  ...               13\n",
              "29   ['the first and second i let pass, for i hardl...  ...                8\n",
              "91   ['i asked.', 'enderby nodded.', 'and you have ...  ...                5\n",
              "\n",
              "[5 rows x 23 columns]"
            ]
          },
          "metadata": {},
          "execution_count": 51
        }
      ]
    },
    {
      "cell_type": "code",
      "metadata": {
        "id": "FTTlAMLAyWLR"
      },
      "source": [
        "trial.to_csv('X_test1.csv', index = False)"
      ],
      "execution_count": null,
      "outputs": []
    },
    {
      "cell_type": "code",
      "metadata": {
        "id": "kaWpehBIyWLS"
      },
      "source": [
        "!mv '/content/X_test1.csv' '/content/drive/MyDrive/Colab Dataset Zoo/NLP Stuff/Final Final Model'"
      ],
      "execution_count": null,
      "outputs": []
    }
  ]
}